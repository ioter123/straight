{
 "cells": [
  {
   "cell_type": "code",
   "execution_count": 106,
   "metadata": {},
   "outputs": [
    {
     "name": "stdout",
     "output_type": "stream",
     "text": [
      "3.7.6 (default, Jan  8 2020, 20:23:39) [MSC v.1916 64 bit (AMD64)]\n"
     ]
    }
   ],
   "source": [
    "#주피터 노트북에서 파이썬 버전 확인하는 법\n",
    "import sys\n",
    "\n",
    "print(sys.version)"
   ]
  },
  {
   "cell_type": "code",
   "execution_count": 107,
   "metadata": {},
   "outputs": [
    {
     "name": "stdout",
     "output_type": "stream",
     "text": [
      "('64bit', 'WindowsPE')\n"
     ]
    }
   ],
   "source": [
    "# python 비트 수 확인\n",
    "import platform\n",
    "\n",
    "print(platform.architecture())"
   ]
  },
  {
   "cell_type": "code",
   "execution_count": null,
   "metadata": {},
   "outputs": [],
   "source": []
  },
  {
   "cell_type": "markdown",
   "metadata": {},
   "source": [
    "# konlpy 라이브러리별 결과물 뽑아보기"
   ]
  },
  {
   "cell_type": "code",
   "execution_count": 108,
   "metadata": {},
   "outputs": [],
   "source": [
    "from konlpy.tag import Hannanum\n",
    "hannanum = Hannanum() "
   ]
  },
  {
   "cell_type": "code",
   "execution_count": 109,
   "metadata": {},
   "outputs": [],
   "source": [
    "import pandas as pd"
   ]
  },
  {
   "cell_type": "code",
   "execution_count": 110,
   "metadata": {},
   "outputs": [],
   "source": [
    "# csv 파일 첫번쨰 unnamed 0 열 없이 불러오기\n",
    "data = pd.read_csv('final3.csv', index_col=[0])"
   ]
  },
  {
   "cell_type": "code",
   "execution_count": 111,
   "metadata": {},
   "outputs": [],
   "source": [
    "data['영상게시일'] = pd.to_datetime(data.영상게시일)"
   ]
  },
  {
   "cell_type": "code",
   "execution_count": 112,
   "metadata": {},
   "outputs": [
    {
     "data": {
      "text/html": [
       "<div>\n",
       "<style scoped>\n",
       "    .dataframe tbody tr th:only-of-type {\n",
       "        vertical-align: middle;\n",
       "    }\n",
       "\n",
       "    .dataframe tbody tr th {\n",
       "        vertical-align: top;\n",
       "    }\n",
       "\n",
       "    .dataframe thead th {\n",
       "        text-align: right;\n",
       "    }\n",
       "</style>\n",
       "<table border=\"1\" class=\"dataframe\">\n",
       "  <thead>\n",
       "    <tr style=\"text-align: right;\">\n",
       "      <th></th>\n",
       "      <th>채널명</th>\n",
       "      <th>제목</th>\n",
       "      <th>썸네일링크</th>\n",
       "      <th>조회수</th>\n",
       "      <th>영상길이</th>\n",
       "      <th>영상게시일</th>\n",
       "      <th>댓글수</th>\n",
       "      <th>좋아요</th>\n",
       "      <th>싫어요</th>\n",
       "    </tr>\n",
       "  </thead>\n",
       "  <tbody>\n",
       "    <tr>\n",
       "      <th>0</th>\n",
       "      <td>ITSub잇섭</td>\n",
       "      <td>느려터진 갤럭시를 새것보다 더 빠르게 만드는법 공짜 앱인데 배터리 증가와 죽은 파일...</td>\n",
       "      <td>https://i.ytimg.com/vi/sRiBkRNJEVE/hqdefault.j...</td>\n",
       "      <td>643547</td>\n",
       "      <td>858</td>\n",
       "      <td>2020-07-01</td>\n",
       "      <td>2118</td>\n",
       "      <td>8500</td>\n",
       "      <td>222</td>\n",
       "    </tr>\n",
       "    <tr>\n",
       "      <th>1</th>\n",
       "      <td>ITSub잇섭</td>\n",
       "      <td>전 세계에서 단 1대 세상에서 가장 조용한 무소음 무선 게이밍 마우스 직접 만들었습니다</td>\n",
       "      <td>https://i.ytimg.com/vi/sSRnk-kRI1o/hqdefault.j...</td>\n",
       "      <td>373804</td>\n",
       "      <td>629</td>\n",
       "      <td>2020-06-29</td>\n",
       "      <td>1543</td>\n",
       "      <td>5100</td>\n",
       "      <td>103</td>\n",
       "    </tr>\n",
       "    <tr>\n",
       "      <th>2</th>\n",
       "      <td>ITSub잇섭</td>\n",
       "      <td>2만원대 날면도기 끝판왕 출시했습니다 제대로된 날면도기 사용법과 90가 모르는 꿀팁...</td>\n",
       "      <td>https://i.ytimg.com/vi/lSrmOrlISXw/hqdefault.j...</td>\n",
       "      <td>286628</td>\n",
       "      <td>803</td>\n",
       "      <td>2020-06-27</td>\n",
       "      <td>1303</td>\n",
       "      <td>3700</td>\n",
       "      <td>240</td>\n",
       "    </tr>\n",
       "    <tr>\n",
       "      <th>3</th>\n",
       "      <td>ITSub잇섭</td>\n",
       "      <td>이것은 안드로이드인가 iOS인가 편의기능 대규모 업데이트 iOS 14 달라진 20가...</td>\n",
       "      <td>https://i.ytimg.com/vi/YK1b2Ut_1J0/hqdefault.j...</td>\n",
       "      <td>921462</td>\n",
       "      <td>518</td>\n",
       "      <td>2020-06-26</td>\n",
       "      <td>2815</td>\n",
       "      <td>11000</td>\n",
       "      <td>255</td>\n",
       "    </tr>\n",
       "    <tr>\n",
       "      <th>4</th>\n",
       "      <td>ITSub잇섭</td>\n",
       "      <td>애플의 진짜 혁신은 15년 인텔 동맹 칼손절 맥북 CPU까지 자체 설계하는 WWDC...</td>\n",
       "      <td>https://i.ytimg.com/vi/ESmLBnO7iMM/hqdefault.j...</td>\n",
       "      <td>471762</td>\n",
       "      <td>823</td>\n",
       "      <td>2020-06-23</td>\n",
       "      <td>1683</td>\n",
       "      <td>60</td>\n",
       "      <td>172</td>\n",
       "    </tr>\n",
       "    <tr>\n",
       "      <th>...</th>\n",
       "      <td>...</td>\n",
       "      <td>...</td>\n",
       "      <td>...</td>\n",
       "      <td>...</td>\n",
       "      <td>...</td>\n",
       "      <td>...</td>\n",
       "      <td>...</td>\n",
       "      <td>...</td>\n",
       "      <td>...</td>\n",
       "    </tr>\n",
       "    <tr>\n",
       "      <th>95</th>\n",
       "      <td>ITSub잇섭</td>\n",
       "      <td>드디어 LG 무선 이어폰 출시 에어팟보다 비싼 2세대 LG 톤플러스 프리 이틀 사용기</td>\n",
       "      <td>https://i.ytimg.com/vi/EcHU-RoGViU/hqdefault.j...</td>\n",
       "      <td>1088513</td>\n",
       "      <td>850</td>\n",
       "      <td>2019-11-23</td>\n",
       "      <td>2218</td>\n",
       "      <td>8600</td>\n",
       "      <td>370</td>\n",
       "    </tr>\n",
       "    <tr>\n",
       "      <th>96</th>\n",
       "      <td>ITSub잇섭</td>\n",
       "      <td>최대 2년 2개월까지 보증가능 애플빠도 잘 모르는 애플케어 관련 총정리 모든 애플 ...</td>\n",
       "      <td>https://i.ytimg.com/vi/-vmrVKmonkw/hqdefault.j...</td>\n",
       "      <td>312218</td>\n",
       "      <td>638</td>\n",
       "      <td>2019-11-21</td>\n",
       "      <td>1092</td>\n",
       "      <td>50</td>\n",
       "      <td>109</td>\n",
       "    </tr>\n",
       "    <tr>\n",
       "      <th>97</th>\n",
       "      <td>ITSub잇섭</td>\n",
       "      <td>무선 이어폰인데 15만원에 노캔까지 장단점이 확실한 아마존 에코 버즈 2주 사용기</td>\n",
       "      <td>https://i.ytimg.com/vi/Y8NohmW2AwI/hqdefault.j...</td>\n",
       "      <td>526185</td>\n",
       "      <td>379</td>\n",
       "      <td>2019-11-18</td>\n",
       "      <td>1695</td>\n",
       "      <td>6400</td>\n",
       "      <td>163</td>\n",
       "    </tr>\n",
       "    <tr>\n",
       "      <th>98</th>\n",
       "      <td>ITSub잇섭</td>\n",
       "      <td>싼데 비싼 풀옵션 770만원 새로운 16인치 맥북프로 옵션 고르는 법 현실적으로 조...</td>\n",
       "      <td>https://i.ytimg.com/vi/ala9EAfJvq4/hqdefault.j...</td>\n",
       "      <td>698522</td>\n",
       "      <td>690</td>\n",
       "      <td>2019-11-15</td>\n",
       "      <td>1824</td>\n",
       "      <td>8100</td>\n",
       "      <td>248</td>\n",
       "    </tr>\n",
       "    <tr>\n",
       "      <th>99</th>\n",
       "      <td>ITSub잇섭</td>\n",
       "      <td>LG의 레전드 LG가 핸드폰으로 삼성을 찌바르던 시절 LG 초콜릿폰 다시 살펴보기</td>\n",
       "      <td>https://i.ytimg.com/vi/TdiTU-950vU/hqdefault.j...</td>\n",
       "      <td>802343</td>\n",
       "      <td>651</td>\n",
       "      <td>2019-11-13</td>\n",
       "      <td>3766</td>\n",
       "      <td>9200</td>\n",
       "      <td>354</td>\n",
       "    </tr>\n",
       "  </tbody>\n",
       "</table>\n",
       "<p>100 rows × 9 columns</p>\n",
       "</div>"
      ],
      "text/plain": [
       "        채널명                                                 제목  \\\n",
       "0   ITSub잇섭  느려터진 갤럭시를 새것보다 더 빠르게 만드는법 공짜 앱인데 배터리 증가와 죽은 파일...   \n",
       "1   ITSub잇섭   전 세계에서 단 1대 세상에서 가장 조용한 무소음 무선 게이밍 마우스 직접 만들었습니다   \n",
       "2   ITSub잇섭  2만원대 날면도기 끝판왕 출시했습니다 제대로된 날면도기 사용법과 90가 모르는 꿀팁...   \n",
       "3   ITSub잇섭  이것은 안드로이드인가 iOS인가 편의기능 대규모 업데이트 iOS 14 달라진 20가...   \n",
       "4   ITSub잇섭  애플의 진짜 혁신은 15년 인텔 동맹 칼손절 맥북 CPU까지 자체 설계하는 WWDC...   \n",
       "..      ...                                                ...   \n",
       "95  ITSub잇섭   드디어 LG 무선 이어폰 출시 에어팟보다 비싼 2세대 LG 톤플러스 프리 이틀 사용기    \n",
       "96  ITSub잇섭  최대 2년 2개월까지 보증가능 애플빠도 잘 모르는 애플케어 관련 총정리 모든 애플 ...   \n",
       "97  ITSub잇섭      무선 이어폰인데 15만원에 노캔까지 장단점이 확실한 아마존 에코 버즈 2주 사용기   \n",
       "98  ITSub잇섭  싼데 비싼 풀옵션 770만원 새로운 16인치 맥북프로 옵션 고르는 법 현실적으로 조...   \n",
       "99  ITSub잇섭      LG의 레전드 LG가 핸드폰으로 삼성을 찌바르던 시절 LG 초콜릿폰 다시 살펴보기   \n",
       "\n",
       "                                                썸네일링크      조회수  영상길이  \\\n",
       "0   https://i.ytimg.com/vi/sRiBkRNJEVE/hqdefault.j...   643547   858   \n",
       "1   https://i.ytimg.com/vi/sSRnk-kRI1o/hqdefault.j...   373804   629   \n",
       "2   https://i.ytimg.com/vi/lSrmOrlISXw/hqdefault.j...   286628   803   \n",
       "3   https://i.ytimg.com/vi/YK1b2Ut_1J0/hqdefault.j...   921462   518   \n",
       "4   https://i.ytimg.com/vi/ESmLBnO7iMM/hqdefault.j...   471762   823   \n",
       "..                                                ...      ...   ...   \n",
       "95  https://i.ytimg.com/vi/EcHU-RoGViU/hqdefault.j...  1088513   850   \n",
       "96  https://i.ytimg.com/vi/-vmrVKmonkw/hqdefault.j...   312218   638   \n",
       "97  https://i.ytimg.com/vi/Y8NohmW2AwI/hqdefault.j...   526185   379   \n",
       "98  https://i.ytimg.com/vi/ala9EAfJvq4/hqdefault.j...   698522   690   \n",
       "99  https://i.ytimg.com/vi/TdiTU-950vU/hqdefault.j...   802343   651   \n",
       "\n",
       "        영상게시일   댓글수    좋아요  싫어요  \n",
       "0  2020-07-01  2118   8500  222  \n",
       "1  2020-06-29  1543   5100  103  \n",
       "2  2020-06-27  1303   3700  240  \n",
       "3  2020-06-26  2815  11000  255  \n",
       "4  2020-06-23  1683     60  172  \n",
       "..        ...   ...    ...  ...  \n",
       "95 2019-11-23  2218   8600  370  \n",
       "96 2019-11-21  1092     50  109  \n",
       "97 2019-11-18  1695   6400  163  \n",
       "98 2019-11-15  1824   8100  248  \n",
       "99 2019-11-13  3766   9200  354  \n",
       "\n",
       "[100 rows x 9 columns]"
      ]
     },
     "execution_count": 112,
     "metadata": {},
     "output_type": "execute_result"
    }
   ],
   "source": [
    "data"
   ]
  },
  {
   "cell_type": "code",
   "execution_count": 113,
   "metadata": {},
   "outputs": [],
   "source": [
    "# 조회수가 평균 조회수 이상인 게시물들만 뽑기\n",
    "data = data[data.조회수 >= data.조회수.mean()]"
   ]
  },
  {
   "cell_type": "code",
   "execution_count": 114,
   "metadata": {},
   "outputs": [],
   "source": [
    "data = data.제목"
   ]
  },
  {
   "cell_type": "code",
   "execution_count": 115,
   "metadata": {},
   "outputs": [],
   "source": [
    "index = data.index"
   ]
  },
  {
   "cell_type": "code",
   "execution_count": 116,
   "metadata": {},
   "outputs": [
    {
     "data": {
      "text/plain": [
       "'이것은 안드로이드인가 iOS인가 편의기능 대규모 업데이트 iOS 14 달라진 20가지를 모두 알려드립니다'"
      ]
     },
     "execution_count": 116,
     "metadata": {},
     "output_type": "execute_result"
    }
   ],
   "source": [
    "data[index[0]]"
   ]
  },
  {
   "cell_type": "code",
   "execution_count": 117,
   "metadata": {},
   "outputs": [
    {
     "name": "stdout",
     "output_type": "stream",
     "text": [
      "[[[('이것', 'npd'), ('은', 'jxc')]], [[('안드로이드', 'ncn'), ('인가', 'jxc')], [('안드로이드', 'ncn'), ('이', 'jp'), ('ㄴ가', 'ef')], [('안드로이드인', 'ncn'), ('가', 'jcc')], [('안드로이드인', 'ncn'), ('가', 'jcs')], [('안드로이드인가', 'ncn')], [('안드로이드', 'nqq'), ('인가', 'jxc')], [('안드로이드', 'nqq'), ('이', 'jp'), ('ㄴ가', 'ef')], [('안드로이드인', 'nqq'), ('가', 'jcc')], [('안드로이드인', 'nqq'), ('가', 'jcs')], [('안드로이드인가', 'nqq')]], [[('iOS', 'f'), ('인가', 'jxc')], [('iOS', 'f'), ('인', 'ncn'), ('가', 'jcc')], [('iOS', 'f'), ('인', 'ncn'), ('가', 'jcs')], [('iOS', 'f'), ('이', 'jp'), ('ㄴ가', 'ef')]], [[('편의기능', 'ncn')], [('편의', 'ncn'), ('기능', 'ncn')], [('편의', 'ncpa'), ('기능', 'ncn')], [('편의', 'ncps'), ('기능', 'ncn')]], [[('대규모', 'ncn')]], [[('업데이트', 'ncn')], [('업데이트', 'nqq')]], [[('iOS', 'f')]], [[('14', 'nnc')]], [[('달라', 'ncn'), ('진', 'ncn')], [('다르', 'paa'), ('아', 'ecx'), ('지', 'px'), ('ㄴ', 'etm')], [('달라지', 'pvg'), ('ㄴ', 'etm')]], [[('20', 'nnc'), ('가지', 'nbu'), ('를', 'jco')]], [[('모두', 'mag')]], [[('알', 'pvg'), ('려', 'ecx'), ('드리', 'px'), ('ㅂ니다', 'ef')], [('알', 'pvg'), ('리', 'ep'), ('어', 'ecx'), ('드리', 'px'), ('ㅂ니다', 'ef')], [('알리', 'pvg'), ('어', 'ecx'), ('드리', 'px'), ('ㅂ니다', 'ef')], [('알려드리', 'pvg'), ('ㅂ니다', 'ef')]]]\n"
     ]
    }
   ],
   "source": [
    "# 구(Phrase) 분석\n",
    "print(hannanum.analyze(data[index[0]]))"
   ]
  },
  {
   "cell_type": "code",
   "execution_count": 118,
   "metadata": {},
   "outputs": [
    {
     "name": "stdout",
     "output_type": "stream",
     "text": [
      "['이것', '은', '안드로이드인', '가', 'iOS', '이', 'ㄴ가', '편의기능', '대규모', '업데이트', 'iOS', '14', '다르', '아', '지', 'ㄴ', '20가지', '를', '모두', '알', '려', '드리', 'ㅂ니다']\n"
     ]
    }
   ],
   "source": [
    "# 형태소 분석\n",
    "print(hannanum.morphs(data[index[0]]))"
   ]
  },
  {
   "cell_type": "code",
   "execution_count": 119,
   "metadata": {},
   "outputs": [
    {
     "name": "stdout",
     "output_type": "stream",
     "text": [
      "['이것', '안드로이드인', '편의기능', '대규모', '업데이트', '14', '20가지']\n"
     ]
    }
   ],
   "source": [
    "# 명사 분석\n",
    "print(hannanum.nouns(data[index[0]]))"
   ]
  },
  {
   "cell_type": "code",
   "execution_count": null,
   "metadata": {},
   "outputs": [],
   "source": []
  },
  {
   "cell_type": "code",
   "execution_count": 120,
   "metadata": {
    "scrolled": true
   },
   "outputs": [
    {
     "name": "stdout",
     "output_type": "stream",
     "text": [
      "[('이것', 'N'), ('은', 'J'), ('안드로이드인', 'N'), ('가', 'J'), ('iOS', 'F'), ('이', 'J'), ('ㄴ가', 'E'), ('편의기능', 'N'), ('대규모', 'N'), ('업데이트', 'N'), ('iOS', 'F'), ('14', 'N'), ('다르', 'P'), ('아', 'E'), ('지', 'P'), ('ㄴ', 'E'), ('20가지', 'N'), ('를', 'J'), ('모두', 'M'), ('알', 'P'), ('려', 'E'), ('드리', 'P'), ('ㅂ니다', 'E')]\n"
     ]
    }
   ],
   "source": [
    "# 형태소 분석 태깅\n",
    "print(hannanum.pos(data[index[0]]))"
   ]
  },
  {
   "cell_type": "code",
   "execution_count": null,
   "metadata": {},
   "outputs": [],
   "source": []
  },
  {
   "cell_type": "code",
   "execution_count": 121,
   "metadata": {},
   "outputs": [],
   "source": [
    "from konlpy.tag import Kkma\n",
    "kkma = Kkma()"
   ]
  },
  {
   "cell_type": "code",
   "execution_count": 122,
   "metadata": {},
   "outputs": [
    {
     "name": "stdout",
     "output_type": "stream",
     "text": [
      "['이것', '은', '안', '드로', '이드', '이', 'ㄴ가', 'iOS', '인가', '편의', '기능', '대규모', '업데이트', 'iOS', '14', '달라지', 'ㄴ', '20', '가지', '를', '모두', '알리', '어', '드리', 'ㅂ니다']\n"
     ]
    }
   ],
   "source": [
    "# 형태소 분석\n",
    "print(kkma.morphs(data[index[0]]))"
   ]
  },
  {
   "cell_type": "code",
   "execution_count": 123,
   "metadata": {},
   "outputs": [
    {
     "name": "stdout",
     "output_type": "stream",
     "text": [
      "['이것', '드로', '드로이드', '이드', '인가', '편의', '편의기능', '기능', '대규모', '업데이트', '14', '20', '20가지', '가지']\n"
     ]
    }
   ],
   "source": [
    "# 명사 분석\n",
    "print(kkma.nouns(data[index[0]]))"
   ]
  },
  {
   "cell_type": "code",
   "execution_count": 124,
   "metadata": {},
   "outputs": [
    {
     "name": "stdout",
     "output_type": "stream",
     "text": [
      "[('이것', 'NP'), ('은', 'JX'), ('안', 'MAG'), ('드로', 'NNG'), ('이드', 'NNG'), ('이', 'VCP'), ('ㄴ가', 'ECS'), ('iOS', 'OL'), ('인가', 'NNG'), ('편의', 'NNG'), ('기능', 'NNG'), ('대규모', 'NNG'), ('업데이트', 'NNG'), ('iOS', 'OL'), ('14', 'NR'), ('달라지', 'VV'), ('ㄴ', 'ETD'), ('20', 'NR'), ('가지', 'NNM'), ('를', 'JKO'), ('모두', 'MAG'), ('알리', 'VV'), ('어', 'ECS'), ('드리', 'VXV'), ('ㅂ니다', 'EFN')]\n"
     ]
    }
   ],
   "source": [
    "# 형태소 분석 태깅\n",
    "print(kkma.pos(data[index[0]]))"
   ]
  },
  {
   "cell_type": "code",
   "execution_count": 125,
   "metadata": {},
   "outputs": [
    {
     "name": "stdout",
     "output_type": "stream",
     "text": [
      "['이것은 안 드로 이드인가 iOS 인가 편의 기능 대규모 업데이트 iOS 14 달라진 20가지를 모두 알려 드립니다']\n"
     ]
    }
   ],
   "source": [
    "# 문장 분석\n",
    "print(kkma.sentences(data[index[0]]))"
   ]
  },
  {
   "cell_type": "code",
   "execution_count": null,
   "metadata": {},
   "outputs": [],
   "source": []
  },
  {
   "cell_type": "code",
   "execution_count": 126,
   "metadata": {},
   "outputs": [],
   "source": [
    "from konlpy.tag import Komoran\n",
    "komoran = Komoran(userdic='/tmp/dic.txt')"
   ]
  },
  {
   "cell_type": "code",
   "execution_count": 127,
   "metadata": {},
   "outputs": [
    {
     "name": "stdout",
     "output_type": "stream",
     "text": [
      "['안드로이드', '인가', '인가', '편의', '기능', '규모', '업데이트', '가지']\n"
     ]
    }
   ],
   "source": [
    "print(komoran.nouns(data[index[0]]))\n"
   ]
  },
  {
   "cell_type": "code",
   "execution_count": null,
   "metadata": {},
   "outputs": [],
   "source": []
  },
  {
   "cell_type": "code",
   "execution_count": 128,
   "metadata": {},
   "outputs": [],
   "source": [
    "from konlpy.tag import Okt\n",
    "okt = Okt()"
   ]
  },
  {
   "cell_type": "code",
   "execution_count": 129,
   "metadata": {},
   "outputs": [
    {
     "name": "stdout",
     "output_type": "stream",
     "text": [
      "['것', '안드로이드', '편의', '기능', '대규모', '업데이트', '가지', '모두']\n"
     ]
    }
   ],
   "source": [
    "print(okt.nouns(data[index[0]]))\n"
   ]
  },
  {
   "cell_type": "code",
   "execution_count": null,
   "metadata": {},
   "outputs": [],
   "source": []
  },
  {
   "cell_type": "markdown",
   "metadata": {},
   "source": [
    "# hannanum 으로 조회수가 평균 이상인 게시물들에 대해 명사 분석해서 5번 이상 언급된 단어 찾기"
   ]
  },
  {
   "cell_type": "code",
   "execution_count": 130,
   "metadata": {},
   "outputs": [],
   "source": [
    "data2 = []\n",
    "for i in index:\n",
    "    data2 += hannanum.nouns(data[i])"
   ]
  },
  {
   "cell_type": "code",
   "execution_count": 131,
   "metadata": {},
   "outputs": [
    {
     "data": {
      "text/plain": [
       "['이것',\n",
       " '안드로이드인',\n",
       " '편의기능',\n",
       " '대규모',\n",
       " '업데이트',\n",
       " '14',\n",
       " '20가지',\n",
       " '반토막',\n",
       " '기계식',\n",
       " '키보드',\n",
       " '진짜',\n",
       " '돈값할까',\n",
       " '괴물',\n",
       " '반응속도',\n",
       " '자랑',\n",
       " '레이저',\n",
       " '타르타로스',\n",
       " '프로',\n",
       " '언빡싱',\n",
       " '한국',\n",
       " '1대',\n",
       " '차값',\n",
       " '10억',\n",
       " '한정판',\n",
       " '람보르기니',\n",
       " '아벤타도르',\n",
       " '50억',\n",
       " '집',\n",
       " '부',\n",
       " '형',\n",
       " '체험',\n",
       " '출시한지',\n",
       " '10년',\n",
       " '명품',\n",
       " '레전드폰',\n",
       " '미개봉',\n",
       " '프라다폰',\n",
       " '30',\n",
       " '언빡싱',\n",
       " '삼성',\n",
       " '진짜',\n",
       " '아이폰',\n",
       " '대항마',\n",
       " '50만원',\n",
       " '갤럭시',\n",
       " 'A51',\n",
       " '5G',\n",
       " '언빡싱살펴보',\n",
       " '이런게',\n",
       " '진짜',\n",
       " '갓성비죠',\n",
       " '보급형',\n",
       " '라',\n",
       " '깡패',\n",
       " '등극',\n",
       " '애플',\n",
       " '아이폰',\n",
       " '2세대',\n",
       " '화이트레드',\n",
       " '언빡싱',\n",
       " '변태',\n",
       " '키배열',\n",
       " '매력',\n",
       " '무선',\n",
       " '기계식',\n",
       " '키보드',\n",
       " '2',\n",
       " '한달',\n",
       " '사용기',\n",
       " '이',\n",
       " '너무한거',\n",
       " '가격',\n",
       " '기능',\n",
       " '삼성',\n",
       " '갤럭시탭',\n",
       " 'S6',\n",
       " '언빡싱',\n",
       " '전',\n",
       " '이것',\n",
       " '추천',\n",
       " '노트북',\n",
       " '수명',\n",
       " '단축',\n",
       " '두',\n",
       " '가지',\n",
       " '습관',\n",
       " '배터리',\n",
       " '수명',\n",
       " '향상',\n",
       " '꿀팁',\n",
       " '제작비',\n",
       " '12000원',\n",
       " '아이폰',\n",
       " '애플',\n",
       " '로고',\n",
       " '법',\n",
       " '아이폰',\n",
       " '2세대',\n",
       " '대항마',\n",
       " '역대급',\n",
       " '디자인',\n",
       " '스마트폰',\n",
       " '벨벳',\n",
       " '공식',\n",
       " '디자인',\n",
       " '스펙출시',\n",
       " '총정리',\n",
       " '현존',\n",
       " '스마트폰',\n",
       " '최고',\n",
       " '게임',\n",
       " '성능',\n",
       " '$399',\n",
       " '애플',\n",
       " '아이폰',\n",
       " '2세대',\n",
       " '자세한',\n",
       " '스펙',\n",
       " '분석',\n",
       " '총정리',\n",
       " '리',\n",
       " '역대급',\n",
       " '쓰레기',\n",
       " '키보드',\n",
       " '바닥',\n",
       " '무선',\n",
       " '레이저',\n",
       " '키보드',\n",
       " '마우스보조배터리',\n",
       " '영상',\n",
       " '130만원',\n",
       " '갤럭시',\n",
       " '노트10',\n",
       " 'S10',\n",
       " '삼성',\n",
       " '역대급',\n",
       " '21',\n",
       " '업데이트',\n",
       " '달라진점',\n",
       " '7가지',\n",
       " '총정리',\n",
       " '존버',\n",
       " '실패',\n",
       " '신형',\n",
       " '애플',\n",
       " '아이패드',\n",
       " '프로',\n",
       " '4세대',\n",
       " '언빡싱달라진',\n",
       " '9가지',\n",
       " '이',\n",
       " '추억',\n",
       " '롤리팝폰',\n",
       " '리뷰',\n",
       " '김',\n",
       " '에어팟',\n",
       " '프로',\n",
       " '연결',\n",
       " '노캔까',\n",
       " '마케팅',\n",
       " '휴대성',\n",
       " '끝판왕',\n",
       " '리',\n",
       " '롤리',\n",
       " '키보드2',\n",
       " '실패했습니다ㅠㅠ',\n",
       " '삼성',\n",
       " '갤럭시',\n",
       " '플립',\n",
       " '해체쇼미러투명',\n",
       " '한정판',\n",
       " '에디션',\n",
       " '만들기',\n",
       " '2만원',\n",
       " '초음파',\n",
       " '세척기',\n",
       " '6개월',\n",
       " '숙성',\n",
       " '키보드',\n",
       " '새것',\n",
       " '청소',\n",
       " '불량',\n",
       " 'ㅠㅠ',\n",
       " '297만원',\n",
       " '뻔',\n",
       " '톰브라운',\n",
       " '에디션',\n",
       " '갤럭시',\n",
       " '플립',\n",
       " '자세한',\n",
       " '언빡싱',\n",
       " '추천',\n",
       " '이유',\n",
       " '찐',\n",
       " '3주',\n",
       " '삼성',\n",
       " '갤럭시',\n",
       " '플립',\n",
       " '사용기',\n",
       " '세상',\n",
       " '투명',\n",
       " '스마트폰',\n",
       " '투명',\n",
       " '삼성',\n",
       " '갤럭시',\n",
       " 'S20',\n",
       " '한정판',\n",
       " '도전',\n",
       " '28인치',\n",
       " '삼성',\n",
       " '4K',\n",
       " '모니터',\n",
       " '34만원',\n",
       " '가성비',\n",
       " '안좋으',\n",
       " '뿌순다(내',\n",
       " '모니터',\n",
       " '선택',\n",
       " '기준',\n",
       " '노트북',\n",
       " '살',\n",
       " '필요',\n",
       " '충격적',\n",
       " '40만원',\n",
       " '인텔',\n",
       " '150만원',\n",
       " '노트북',\n",
       " '게이밍',\n",
       " '테스트',\n",
       " '노캔',\n",
       " '버즈',\n",
       " '3가지',\n",
       " '삼성',\n",
       " '갤럭시',\n",
       " '버즈',\n",
       " '일주일',\n",
       " '사용기',\n",
       " '셀카찍을때',\n",
       " '최고',\n",
       " '수',\n",
       " '삼성',\n",
       " '역대급',\n",
       " '예쁜폰',\n",
       " '삼성',\n",
       " '갤럭시',\n",
       " '플립',\n",
       " '언빡싱',\n",
       " '삼성버전',\n",
       " '인덕션',\n",
       " '카메라',\n",
       " '성능',\n",
       " '몰빵한',\n",
       " '삼성',\n",
       " '갤럭시',\n",
       " 'S20',\n",
       " '|',\n",
       " 'S20',\n",
       " '|',\n",
       " 'S20',\n",
       " '전모델',\n",
       " '달라진점',\n",
       " '무료앱',\n",
       " '하나',\n",
       " '갤럭시',\n",
       " '애플',\n",
       " '감성',\n",
       " '법',\n",
       " '꿀팁',\n",
       " '삼성',\n",
       " '공식',\n",
       " '트윅앱',\n",
       " '굿락',\n",
       " '2020',\n",
       " '업데이트',\n",
       " '오만상사',\n",
       " '|',\n",
       " '이런게',\n",
       " '혁신',\n",
       " '테크충',\n",
       " '기본템',\n",
       " '2만원',\n",
       " '휴대폰노트북',\n",
       " '등',\n",
       " '초소형',\n",
       " '만능',\n",
       " '충전기',\n",
       " '명기',\n",
       " '삼성',\n",
       " '갤럭시S2',\n",
       " '최신안드로이드',\n",
       " '10',\n",
       " '업그레이드',\n",
       " '도전하기',\n",
       " '무선',\n",
       " '이어폰',\n",
       " '공장',\n",
       " '적',\n",
       " '국산',\n",
       " '무선이어폰',\n",
       " '베트남',\n",
       " '만큼',\n",
       " '혜',\n",
       " '구성',\n",
       " '50만원',\n",
       " '가성비',\n",
       " '애플',\n",
       " '아이폰',\n",
       " '2',\n",
       " '9',\n",
       " '유출',\n",
       " '루머',\n",
       " '총정리',\n",
       " '165만원',\n",
       " '갤럭시',\n",
       " '버즈',\n",
       " '노트10',\n",
       " '공짜',\n",
       " '역대급',\n",
       " '존예',\n",
       " '갤럭시',\n",
       " '노트10',\n",
       " '스타워즈',\n",
       " '에디션',\n",
       " '언빡싱',\n",
       " '오만상사',\n",
       " '|',\n",
       " '생태계',\n",
       " '파괴',\n",
       " '가격',\n",
       " '가성비',\n",
       " '2만원',\n",
       " '스마트워치',\n",
       " '구입',\n",
       " '완전',\n",
       " '무선',\n",
       " '이어폰',\n",
       " '6900원',\n",
       " '베스킨라빈스',\n",
       " '이어폰',\n",
       " '맥북프',\n",
       " '배터리',\n",
       " '수리',\n",
       " '수',\n",
       " '자가수리',\n",
       " '맥북프로',\n",
       " '새것',\n",
       " '만들기',\n",
       " '하루',\n",
       " '1500만원',\n",
       " '다썼습니다',\n",
       " '전자기',\n",
       " '돈',\n",
       " '중고거래',\n",
       " '꿀팁',\n",
       " '오만상사',\n",
       " '|',\n",
       " '지갑',\n",
       " '5만원',\n",
       " '때',\n",
       " '진짜',\n",
       " '만',\n",
       " '기계식키보드',\n",
       " '갓성비',\n",
       " '콕스',\n",
       " 'CK87',\n",
       " '6개월',\n",
       " '사용기',\n",
       " '죄송',\n",
       " '한국',\n",
       " '10만원',\n",
       " '삼성',\n",
       " '스마트폰',\n",
       " '갤럭시',\n",
       " 'M20',\n",
       " '언빡싱',\n",
       " '쌉졸귀탱',\n",
       " '줄',\n",
       " '카카오',\n",
       " '무선',\n",
       " '이어폰',\n",
       " '6만원주',\n",
       " '이것',\n",
       " '169000원',\n",
       " '정품',\n",
       " '케이스',\n",
       " '애플',\n",
       " '스마트',\n",
       " '배터리',\n",
       " '케이스',\n",
       " '언빡싱',\n",
       " '치사',\n",
       " '애플',\n",
       " '2만원',\n",
       " '우주최강',\n",
       " '아이폰',\n",
       " '개조해서',\n",
       " '듀얼심',\n",
       " '업그레이드',\n",
       " '법',\n",
       " '(Feat해체쇼',\n",
       " '무선',\n",
       " '이어폰',\n",
       " '출시',\n",
       " '에어팟',\n",
       " '2세대',\n",
       " '톤플러스',\n",
       " '프리',\n",
       " '이틀',\n",
       " '사용기']"
      ]
     },
     "execution_count": 131,
     "metadata": {},
     "output_type": "execute_result"
    }
   ],
   "source": [
    "data2"
   ]
  },
  {
   "cell_type": "code",
   "execution_count": 132,
   "metadata": {},
   "outputs": [
    {
     "name": "stdout",
     "output_type": "stream",
     "text": [
      "{'이것': 3, '안드로이드인': 1, '편의기능': 1, '대규모': 1, '업데이트': 3, '14': 1, '20가지': 1, '반토막': 1, '기계식': 2, '키보드': 5, '진짜': 4, '돈값할까': 1, '괴물': 1, '반응속도': 1, '자랑': 1, '레이저': 2, '타르타로스': 1, '프로': 3, '언빡싱': 9, '한국': 2, '1대': 1, '차값': 1, '10억': 1, '한정판': 3, '람보르기니': 1, '아벤타도르': 1, '50억': 1, '집': 1, '부': 1, '형': 1, '체험': 1, '출시한지': 1, '10년': 1, '명품': 1, '레전드폰': 1, '미개봉': 1, '프라다폰': 1, '30': 1, '삼성': 14, '아이폰': 7, '대항마': 2, '50만원': 2, '갤럭시': 13, 'A51': 1, '5G': 1, '언빡싱살펴보': 1, '이런게': 2, '갓성비죠': 1, '보급형': 1, '라': 1, '깡패': 1, '등극': 1, '애플': 8, '2세대': 4, '화이트레드': 1, '변태': 1, '키배열': 1, '매력': 1, '무선': 6, '2': 2, '한달': 1, '사용기': 5, '이': 2, '너무한거': 1, '가격': 2, '기능': 1, '갤럭시탭': 1, 'S6': 1, '전': 1, '추천': 2, '노트북': 3, '수명': 2, '단축': 1, '두': 1, '가지': 1, '습관': 1, '배터리': 3, '향상': 1, '꿀팁': 3, '제작비': 1, '12000원': 1, '로고': 1, '법': 3, '역대급': 5, '디자인': 2, '스마트폰': 4, '벨벳': 1, '공식': 2, '스펙출시': 1, '총정리': 4, '현존': 1, '최고': 2, '게임': 1, '성능': 2, '$399': 1, '자세한': 2, '스펙': 1, '분석': 1, '리': 2, '쓰레기': 1, '바닥': 1, '마우스보조배터리': 1, '영상': 1, '130만원': 1, '노트10': 3, 'S10': 1, '21': 1, '달라진점': 2, '7가지': 1, '존버': 1, '실패': 1, '신형': 1, '아이패드': 1, '4세대': 1, '언빡싱달라진': 1, '9가지': 1, '추억': 1, '롤리팝폰': 1, '리뷰': 1, '김': 1, '에어팟': 2, '연결': 1, '노캔까': 1, '마케팅': 1, '휴대성': 1, '끝판왕': 1, '롤리': 1, '키보드2': 1, '실패했습니다ㅠㅠ': 1, '플립': 4, '해체쇼미러투명': 1, '에디션': 3, '만들기': 2, '2만원': 4, '초음파': 1, '세척기': 1, '6개월': 2, '숙성': 1, '새것': 2, '청소': 1, '불량': 1, 'ㅠㅠ': 1, '297만원': 1, '뻔': 1, '톰브라운': 1, '이유': 1, '찐': 1, '3주': 1, '세상': 1, '투명': 2, 'S20': 4, '도전': 1, '28인치': 1, '4K': 1, '모니터': 2, '34만원': 1, '가성비': 3, '안좋으': 1, '뿌순다(내': 1, '선택': 1, '기준': 1, '살': 1, '필요': 1, '충격적': 1, '40만원': 1, '인텔': 1, '150만원': 1, '게이밍': 1, '테스트': 1, '노캔': 1, '버즈': 3, '3가지': 1, '일주일': 1, '셀카찍을때': 1, '수': 2, '예쁜폰': 1, '삼성버전': 1, '인덕션': 1, '카메라': 1, '몰빵한': 1, '|': 5, '전모델': 1, '무료앱': 1, '하나': 1, '감성': 1, '트윅앱': 1, '굿락': 1, '2020': 1, '오만상사': 3, '혁신': 1, '테크충': 1, '기본템': 1, '휴대폰노트북': 1, '등': 1, '초소형': 1, '만능': 1, '충전기': 1, '명기': 1, '갤럭시S2': 1, '최신안드로이드': 1, '10': 1, '업그레이드': 2, '도전하기': 1, '이어폰': 5, '공장': 1, '적': 1, '국산': 1, '무선이어폰': 1, '베트남': 1, '만큼': 1, '혜': 1, '구성': 1, '9': 1, '유출': 1, '루머': 1, '165만원': 1, '공짜': 1, '존예': 1, '스타워즈': 1, '생태계': 1, '파괴': 1, '스마트워치': 1, '구입': 1, '완전': 1, '6900원': 1, '베스킨라빈스': 1, '맥북프': 1, '수리': 1, '자가수리': 1, '맥북프로': 1, '하루': 1, '1500만원': 1, '다썼습니다': 1, '전자기': 1, '돈': 1, '중고거래': 1, '지갑': 1, '5만원': 1, '때': 1, '만': 1, '기계식키보드': 1, '갓성비': 1, '콕스': 1, 'CK87': 1, '죄송': 1, '10만원': 1, 'M20': 1, '쌉졸귀탱': 1, '줄': 1, '카카오': 1, '6만원주': 1, '169000원': 1, '정품': 1, '케이스': 2, '스마트': 1, '치사': 1, '우주최강': 1, '개조해서': 1, '듀얼심': 1, '(Feat해체쇼': 1, '출시': 1, '톤플러스': 1, '프리': 1, '이틀': 1}\n"
     ]
    }
   ],
   "source": [
    "# 리스트에 있는 단어들 빈도수 체크\n",
    "\n",
    "count={}\n",
    "lists = data2\n",
    "for i in lists:\n",
    "    try: count[i] += 1\n",
    "    except: count[i]=1\n",
    "print(count)"
   ]
  },
  {
   "cell_type": "code",
   "execution_count": 133,
   "metadata": {},
   "outputs": [],
   "source": [
    "import matplotlib.pyplot as plt\n",
    "%matplotlib inline"
   ]
  },
  {
   "cell_type": "code",
   "execution_count": 134,
   "metadata": {},
   "outputs": [
    {
     "data": {
      "text/html": [
       "<div>\n",
       "<style scoped>\n",
       "    .dataframe tbody tr th:only-of-type {\n",
       "        vertical-align: middle;\n",
       "    }\n",
       "\n",
       "    .dataframe tbody tr th {\n",
       "        vertical-align: top;\n",
       "    }\n",
       "\n",
       "    .dataframe thead th {\n",
       "        text-align: right;\n",
       "    }\n",
       "</style>\n",
       "<table border=\"1\" class=\"dataframe\">\n",
       "  <thead>\n",
       "    <tr style=\"text-align: right;\">\n",
       "      <th></th>\n",
       "      <th>단어</th>\n",
       "      <th>빈도수</th>\n",
       "    </tr>\n",
       "  </thead>\n",
       "  <tbody>\n",
       "    <tr>\n",
       "      <th>9</th>\n",
       "      <td>키보드</td>\n",
       "      <td>5</td>\n",
       "    </tr>\n",
       "    <tr>\n",
       "      <th>18</th>\n",
       "      <td>언빡싱</td>\n",
       "      <td>9</td>\n",
       "    </tr>\n",
       "    <tr>\n",
       "      <th>38</th>\n",
       "      <td>삼성</td>\n",
       "      <td>14</td>\n",
       "    </tr>\n",
       "    <tr>\n",
       "      <th>39</th>\n",
       "      <td>아이폰</td>\n",
       "      <td>7</td>\n",
       "    </tr>\n",
       "    <tr>\n",
       "      <th>42</th>\n",
       "      <td>갤럭시</td>\n",
       "      <td>13</td>\n",
       "    </tr>\n",
       "    <tr>\n",
       "      <th>52</th>\n",
       "      <td>애플</td>\n",
       "      <td>8</td>\n",
       "    </tr>\n",
       "    <tr>\n",
       "      <th>58</th>\n",
       "      <td>무선</td>\n",
       "      <td>6</td>\n",
       "    </tr>\n",
       "    <tr>\n",
       "      <th>61</th>\n",
       "      <td>사용기</td>\n",
       "      <td>5</td>\n",
       "    </tr>\n",
       "    <tr>\n",
       "      <th>83</th>\n",
       "      <td>역대급</td>\n",
       "      <td>5</td>\n",
       "    </tr>\n",
       "    <tr>\n",
       "      <th>180</th>\n",
       "      <td>|</td>\n",
       "      <td>5</td>\n",
       "    </tr>\n",
       "    <tr>\n",
       "      <th>203</th>\n",
       "      <td>이어폰</td>\n",
       "      <td>5</td>\n",
       "    </tr>\n",
       "  </tbody>\n",
       "</table>\n",
       "</div>"
      ],
      "text/plain": [
       "      단어  빈도수\n",
       "9    키보드    5\n",
       "18   언빡싱    9\n",
       "38    삼성   14\n",
       "39   아이폰    7\n",
       "42   갤럭시   13\n",
       "52    애플    8\n",
       "58    무선    6\n",
       "61   사용기    5\n",
       "83   역대급    5\n",
       "180    |    5\n",
       "203  이어폰    5"
      ]
     },
     "execution_count": 134,
     "metadata": {},
     "output_type": "execute_result"
    }
   ],
   "source": [
    "# 위에서 뽑은 사전타입 데이터 프레임 타입으로 바꾸고 원하는 빈도수 이상 단어만 뽑기\n",
    "import pandas as pd\n",
    "\n",
    "col1 = pd.DataFrame(count.keys())\n",
    "col2 = pd.DataFrame(count.values())\n",
    "count_df = pd.concat([col1, col2], axis=1)\n",
    "count_df.columns = ['단어', '빈도수']\n",
    "count_df2 = count_df[count_df.빈도수 > 4]\n",
    "count_df2"
   ]
  },
  {
   "cell_type": "code",
   "execution_count": 135,
   "metadata": {},
   "outputs": [
    {
     "data": {
      "text/plain": [
       "<BarContainer object of 11 artists>"
      ]
     },
     "execution_count": 135,
     "metadata": {},
     "output_type": "execute_result"
    },
    {
     "name": "stderr",
     "output_type": "stream",
     "text": [
      "D:\\ringa\\anaconda3\\lib\\site-packages\\matplotlib\\backends\\backend_agg.py:211: RuntimeWarning: Glyph 53412 missing from current font.\n",
      "  font.set_text(s, 0.0, flags=flags)\n",
      "D:\\ringa\\anaconda3\\lib\\site-packages\\matplotlib\\backends\\backend_agg.py:211: RuntimeWarning: Glyph 48372 missing from current font.\n",
      "  font.set_text(s, 0.0, flags=flags)\n",
      "D:\\ringa\\anaconda3\\lib\\site-packages\\matplotlib\\backends\\backend_agg.py:211: RuntimeWarning: Glyph 46300 missing from current font.\n",
      "  font.set_text(s, 0.0, flags=flags)\n",
      "D:\\ringa\\anaconda3\\lib\\site-packages\\matplotlib\\backends\\backend_agg.py:211: RuntimeWarning: Glyph 50616 missing from current font.\n",
      "  font.set_text(s, 0.0, flags=flags)\n",
      "D:\\ringa\\anaconda3\\lib\\site-packages\\matplotlib\\backends\\backend_agg.py:211: RuntimeWarning: Glyph 48737 missing from current font.\n",
      "  font.set_text(s, 0.0, flags=flags)\n",
      "D:\\ringa\\anaconda3\\lib\\site-packages\\matplotlib\\backends\\backend_agg.py:211: RuntimeWarning: Glyph 49905 missing from current font.\n",
      "  font.set_text(s, 0.0, flags=flags)\n",
      "D:\\ringa\\anaconda3\\lib\\site-packages\\matplotlib\\backends\\backend_agg.py:211: RuntimeWarning: Glyph 49340 missing from current font.\n",
      "  font.set_text(s, 0.0, flags=flags)\n",
      "D:\\ringa\\anaconda3\\lib\\site-packages\\matplotlib\\backends\\backend_agg.py:211: RuntimeWarning: Glyph 49457 missing from current font.\n",
      "  font.set_text(s, 0.0, flags=flags)\n",
      "D:\\ringa\\anaconda3\\lib\\site-packages\\matplotlib\\backends\\backend_agg.py:211: RuntimeWarning: Glyph 50500 missing from current font.\n",
      "  font.set_text(s, 0.0, flags=flags)\n",
      "D:\\ringa\\anaconda3\\lib\\site-packages\\matplotlib\\backends\\backend_agg.py:211: RuntimeWarning: Glyph 51060 missing from current font.\n",
      "  font.set_text(s, 0.0, flags=flags)\n",
      "D:\\ringa\\anaconda3\\lib\\site-packages\\matplotlib\\backends\\backend_agg.py:211: RuntimeWarning: Glyph 54256 missing from current font.\n",
      "  font.set_text(s, 0.0, flags=flags)\n",
      "D:\\ringa\\anaconda3\\lib\\site-packages\\matplotlib\\backends\\backend_agg.py:211: RuntimeWarning: Glyph 44068 missing from current font.\n",
      "  font.set_text(s, 0.0, flags=flags)\n",
      "D:\\ringa\\anaconda3\\lib\\site-packages\\matplotlib\\backends\\backend_agg.py:211: RuntimeWarning: Glyph 47085 missing from current font.\n",
      "  font.set_text(s, 0.0, flags=flags)\n",
      "D:\\ringa\\anaconda3\\lib\\site-packages\\matplotlib\\backends\\backend_agg.py:211: RuntimeWarning: Glyph 49884 missing from current font.\n",
      "  font.set_text(s, 0.0, flags=flags)\n",
      "D:\\ringa\\anaconda3\\lib\\site-packages\\matplotlib\\backends\\backend_agg.py:211: RuntimeWarning: Glyph 50528 missing from current font.\n",
      "  font.set_text(s, 0.0, flags=flags)\n",
      "D:\\ringa\\anaconda3\\lib\\site-packages\\matplotlib\\backends\\backend_agg.py:211: RuntimeWarning: Glyph 54540 missing from current font.\n",
      "  font.set_text(s, 0.0, flags=flags)\n",
      "D:\\ringa\\anaconda3\\lib\\site-packages\\matplotlib\\backends\\backend_agg.py:211: RuntimeWarning: Glyph 47924 missing from current font.\n",
      "  font.set_text(s, 0.0, flags=flags)\n",
      "D:\\ringa\\anaconda3\\lib\\site-packages\\matplotlib\\backends\\backend_agg.py:211: RuntimeWarning: Glyph 49440 missing from current font.\n",
      "  font.set_text(s, 0.0, flags=flags)\n",
      "D:\\ringa\\anaconda3\\lib\\site-packages\\matplotlib\\backends\\backend_agg.py:211: RuntimeWarning: Glyph 49324 missing from current font.\n",
      "  font.set_text(s, 0.0, flags=flags)\n",
      "D:\\ringa\\anaconda3\\lib\\site-packages\\matplotlib\\backends\\backend_agg.py:211: RuntimeWarning: Glyph 50857 missing from current font.\n",
      "  font.set_text(s, 0.0, flags=flags)\n",
      "D:\\ringa\\anaconda3\\lib\\site-packages\\matplotlib\\backends\\backend_agg.py:211: RuntimeWarning: Glyph 44592 missing from current font.\n",
      "  font.set_text(s, 0.0, flags=flags)\n",
      "D:\\ringa\\anaconda3\\lib\\site-packages\\matplotlib\\backends\\backend_agg.py:211: RuntimeWarning: Glyph 50669 missing from current font.\n",
      "  font.set_text(s, 0.0, flags=flags)\n",
      "D:\\ringa\\anaconda3\\lib\\site-packages\\matplotlib\\backends\\backend_agg.py:211: RuntimeWarning: Glyph 45824 missing from current font.\n",
      "  font.set_text(s, 0.0, flags=flags)\n",
      "D:\\ringa\\anaconda3\\lib\\site-packages\\matplotlib\\backends\\backend_agg.py:211: RuntimeWarning: Glyph 44553 missing from current font.\n",
      "  font.set_text(s, 0.0, flags=flags)\n",
      "D:\\ringa\\anaconda3\\lib\\site-packages\\matplotlib\\backends\\backend_agg.py:211: RuntimeWarning: Glyph 50612 missing from current font.\n",
      "  font.set_text(s, 0.0, flags=flags)\n",
      "D:\\ringa\\anaconda3\\lib\\site-packages\\matplotlib\\backends\\backend_agg.py:180: RuntimeWarning: Glyph 53412 missing from current font.\n",
      "  font.set_text(s, 0, flags=flags)\n",
      "D:\\ringa\\anaconda3\\lib\\site-packages\\matplotlib\\backends\\backend_agg.py:180: RuntimeWarning: Glyph 48372 missing from current font.\n",
      "  font.set_text(s, 0, flags=flags)\n",
      "D:\\ringa\\anaconda3\\lib\\site-packages\\matplotlib\\backends\\backend_agg.py:180: RuntimeWarning: Glyph 46300 missing from current font.\n",
      "  font.set_text(s, 0, flags=flags)\n",
      "D:\\ringa\\anaconda3\\lib\\site-packages\\matplotlib\\backends\\backend_agg.py:180: RuntimeWarning: Glyph 50616 missing from current font.\n",
      "  font.set_text(s, 0, flags=flags)\n",
      "D:\\ringa\\anaconda3\\lib\\site-packages\\matplotlib\\backends\\backend_agg.py:180: RuntimeWarning: Glyph 48737 missing from current font.\n",
      "  font.set_text(s, 0, flags=flags)\n",
      "D:\\ringa\\anaconda3\\lib\\site-packages\\matplotlib\\backends\\backend_agg.py:180: RuntimeWarning: Glyph 49905 missing from current font.\n",
      "  font.set_text(s, 0, flags=flags)\n",
      "D:\\ringa\\anaconda3\\lib\\site-packages\\matplotlib\\backends\\backend_agg.py:180: RuntimeWarning: Glyph 49340 missing from current font.\n",
      "  font.set_text(s, 0, flags=flags)\n",
      "D:\\ringa\\anaconda3\\lib\\site-packages\\matplotlib\\backends\\backend_agg.py:180: RuntimeWarning: Glyph 49457 missing from current font.\n",
      "  font.set_text(s, 0, flags=flags)\n",
      "D:\\ringa\\anaconda3\\lib\\site-packages\\matplotlib\\backends\\backend_agg.py:180: RuntimeWarning: Glyph 50500 missing from current font.\n",
      "  font.set_text(s, 0, flags=flags)\n",
      "D:\\ringa\\anaconda3\\lib\\site-packages\\matplotlib\\backends\\backend_agg.py:180: RuntimeWarning: Glyph 51060 missing from current font.\n",
      "  font.set_text(s, 0, flags=flags)\n",
      "D:\\ringa\\anaconda3\\lib\\site-packages\\matplotlib\\backends\\backend_agg.py:180: RuntimeWarning: Glyph 54256 missing from current font.\n",
      "  font.set_text(s, 0, flags=flags)\n",
      "D:\\ringa\\anaconda3\\lib\\site-packages\\matplotlib\\backends\\backend_agg.py:180: RuntimeWarning: Glyph 44068 missing from current font.\n",
      "  font.set_text(s, 0, flags=flags)\n",
      "D:\\ringa\\anaconda3\\lib\\site-packages\\matplotlib\\backends\\backend_agg.py:180: RuntimeWarning: Glyph 47085 missing from current font.\n",
      "  font.set_text(s, 0, flags=flags)\n",
      "D:\\ringa\\anaconda3\\lib\\site-packages\\matplotlib\\backends\\backend_agg.py:180: RuntimeWarning: Glyph 49884 missing from current font.\n",
      "  font.set_text(s, 0, flags=flags)\n",
      "D:\\ringa\\anaconda3\\lib\\site-packages\\matplotlib\\backends\\backend_agg.py:180: RuntimeWarning: Glyph 50528 missing from current font.\n",
      "  font.set_text(s, 0, flags=flags)\n",
      "D:\\ringa\\anaconda3\\lib\\site-packages\\matplotlib\\backends\\backend_agg.py:180: RuntimeWarning: Glyph 54540 missing from current font.\n",
      "  font.set_text(s, 0, flags=flags)\n",
      "D:\\ringa\\anaconda3\\lib\\site-packages\\matplotlib\\backends\\backend_agg.py:180: RuntimeWarning: Glyph 47924 missing from current font.\n",
      "  font.set_text(s, 0, flags=flags)\n",
      "D:\\ringa\\anaconda3\\lib\\site-packages\\matplotlib\\backends\\backend_agg.py:180: RuntimeWarning: Glyph 49440 missing from current font.\n",
      "  font.set_text(s, 0, flags=flags)\n",
      "D:\\ringa\\anaconda3\\lib\\site-packages\\matplotlib\\backends\\backend_agg.py:180: RuntimeWarning: Glyph 49324 missing from current font.\n",
      "  font.set_text(s, 0, flags=flags)\n",
      "D:\\ringa\\anaconda3\\lib\\site-packages\\matplotlib\\backends\\backend_agg.py:180: RuntimeWarning: Glyph 50857 missing from current font.\n",
      "  font.set_text(s, 0, flags=flags)\n",
      "D:\\ringa\\anaconda3\\lib\\site-packages\\matplotlib\\backends\\backend_agg.py:180: RuntimeWarning: Glyph 44592 missing from current font.\n",
      "  font.set_text(s, 0, flags=flags)\n",
      "D:\\ringa\\anaconda3\\lib\\site-packages\\matplotlib\\backends\\backend_agg.py:180: RuntimeWarning: Glyph 50669 missing from current font.\n",
      "  font.set_text(s, 0, flags=flags)\n",
      "D:\\ringa\\anaconda3\\lib\\site-packages\\matplotlib\\backends\\backend_agg.py:180: RuntimeWarning: Glyph 45824 missing from current font.\n",
      "  font.set_text(s, 0, flags=flags)\n",
      "D:\\ringa\\anaconda3\\lib\\site-packages\\matplotlib\\backends\\backend_agg.py:180: RuntimeWarning: Glyph 44553 missing from current font.\n",
      "  font.set_text(s, 0, flags=flags)\n",
      "D:\\ringa\\anaconda3\\lib\\site-packages\\matplotlib\\backends\\backend_agg.py:180: RuntimeWarning: Glyph 50612 missing from current font.\n",
      "  font.set_text(s, 0, flags=flags)\n"
     ]
    },
    {
     "data": {
      "image/png": "[encoded data removed]",
      "text/plain": [
       "<Figure size 432x288 with 1 Axes>"
      ]
     },
     "metadata": {
      "needs_background": "light"
     },
     "output_type": "display_data"
    }
   ],
   "source": [
    "# 제목의 각 단어의 빈도수 체크 \n",
    "# 한글 안뽑히는 문제 해결해야함\n",
    "\n",
    "plt.barh(count_df2.단어, count_df2.빈도수)"
   ]
  },
  {
   "cell_type": "code",
   "execution_count": null,
   "metadata": {},
   "outputs": [],
   "source": []
  }
 ],
 "metadata": {
  "kernelspec": {
   "display_name": "Python 3",
   "language": "python",
   "name": "python3"
  },
  "language_info": {
   "codemirror_mode": {
    "name": "ipython",
    "version": 3
   },
   "file_extension": ".py",
   "mimetype": "text/x-python",
   "name": "python",
   "nbconvert_exporter": "python",
   "pygments_lexer": "ipython3",
   "version": "3.7.6"
  }
 },
 "nbformat": 4,
 "nbformat_minor": 4
}
