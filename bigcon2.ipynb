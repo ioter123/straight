{
 "cells": [
  {
   "cell_type": "code",
   "execution_count": null,
   "metadata": {},
   "outputs": [],
   "source": []
  },
  {
   "cell_type": "code",
   "execution_count": null,
   "metadata": {},
   "outputs": [],
   "source": [
    "# 빅콘테스트 2020"
   ]
  },
  {
   "cell_type": "code",
   "execution_count": 1,
   "metadata": {
    "collapsed": true
   },
   "outputs": [
    {
     "name": "stderr",
     "output_type": "stream",
     "text": [
      "Using TensorFlow backend.\n",
      "D:\\ringa\\anaconda3\\lib\\site-packages\\tensorflow\\python\\framework\\dtypes.py:516: FutureWarning: Passing (type, 1) or '1type' as a synonym of type is deprecated; in a future version of numpy, it will be understood as (type, (1,)) / '(1,)type'.\n",
      "  _np_qint8 = np.dtype([(\"qint8\", np.int8, 1)])\n",
      "D:\\ringa\\anaconda3\\lib\\site-packages\\tensorflow\\python\\framework\\dtypes.py:517: FutureWarning: Passing (type, 1) or '1type' as a synonym of type is deprecated; in a future version of numpy, it will be understood as (type, (1,)) / '(1,)type'.\n",
      "  _np_quint8 = np.dtype([(\"quint8\", np.uint8, 1)])\n",
      "D:\\ringa\\anaconda3\\lib\\site-packages\\tensorflow\\python\\framework\\dtypes.py:518: FutureWarning: Passing (type, 1) or '1type' as a synonym of type is deprecated; in a future version of numpy, it will be understood as (type, (1,)) / '(1,)type'.\n",
      "  _np_qint16 = np.dtype([(\"qint16\", np.int16, 1)])\n",
      "D:\\ringa\\anaconda3\\lib\\site-packages\\tensorflow\\python\\framework\\dtypes.py:519: FutureWarning: Passing (type, 1) or '1type' as a synonym of type is deprecated; in a future version of numpy, it will be understood as (type, (1,)) / '(1,)type'.\n",
      "  _np_quint16 = np.dtype([(\"quint16\", np.uint16, 1)])\n",
      "D:\\ringa\\anaconda3\\lib\\site-packages\\tensorflow\\python\\framework\\dtypes.py:520: FutureWarning: Passing (type, 1) or '1type' as a synonym of type is deprecated; in a future version of numpy, it will be understood as (type, (1,)) / '(1,)type'.\n",
      "  _np_qint32 = np.dtype([(\"qint32\", np.int32, 1)])\n",
      "D:\\ringa\\anaconda3\\lib\\site-packages\\tensorflow\\python\\framework\\dtypes.py:525: FutureWarning: Passing (type, 1) or '1type' as a synonym of type is deprecated; in a future version of numpy, it will be understood as (type, (1,)) / '(1,)type'.\n",
      "  np_resource = np.dtype([(\"resource\", np.ubyte, 1)])\n",
      "D:\\ringa\\anaconda3\\lib\\site-packages\\tensorboard\\compat\\tensorflow_stub\\dtypes.py:541: FutureWarning: Passing (type, 1) or '1type' as a synonym of type is deprecated; in a future version of numpy, it will be understood as (type, (1,)) / '(1,)type'.\n",
      "  _np_qint8 = np.dtype([(\"qint8\", np.int8, 1)])\n",
      "D:\\ringa\\anaconda3\\lib\\site-packages\\tensorboard\\compat\\tensorflow_stub\\dtypes.py:542: FutureWarning: Passing (type, 1) or '1type' as a synonym of type is deprecated; in a future version of numpy, it will be understood as (type, (1,)) / '(1,)type'.\n",
      "  _np_quint8 = np.dtype([(\"quint8\", np.uint8, 1)])\n",
      "D:\\ringa\\anaconda3\\lib\\site-packages\\tensorboard\\compat\\tensorflow_stub\\dtypes.py:543: FutureWarning: Passing (type, 1) or '1type' as a synonym of type is deprecated; in a future version of numpy, it will be understood as (type, (1,)) / '(1,)type'.\n",
      "  _np_qint16 = np.dtype([(\"qint16\", np.int16, 1)])\n",
      "D:\\ringa\\anaconda3\\lib\\site-packages\\tensorboard\\compat\\tensorflow_stub\\dtypes.py:544: FutureWarning: Passing (type, 1) or '1type' as a synonym of type is deprecated; in a future version of numpy, it will be understood as (type, (1,)) / '(1,)type'.\n",
      "  _np_quint16 = np.dtype([(\"quint16\", np.uint16, 1)])\n",
      "D:\\ringa\\anaconda3\\lib\\site-packages\\tensorboard\\compat\\tensorflow_stub\\dtypes.py:545: FutureWarning: Passing (type, 1) or '1type' as a synonym of type is deprecated; in a future version of numpy, it will be understood as (type, (1,)) / '(1,)type'.\n",
      "  _np_qint32 = np.dtype([(\"qint32\", np.int32, 1)])\n",
      "D:\\ringa\\anaconda3\\lib\\site-packages\\tensorboard\\compat\\tensorflow_stub\\dtypes.py:550: FutureWarning: Passing (type, 1) or '1type' as a synonym of type is deprecated; in a future version of numpy, it will be understood as (type, (1,)) / '(1,)type'.\n",
      "  np_resource = np.dtype([(\"resource\", np.ubyte, 1)])\n"
     ]
    }
   ],
   "source": [
    "# 데이터 전처리, 시각화 라이브러리 import \n",
    "import pandas as pd\n",
    "import matplotlib.pyplot as plt\n",
    "import datetime\n",
    "import sklearn.linear_model as lm\n",
    "from sklearn.model_selection import train_test_split\n",
    "%matplotlib inline\n",
    "import matplotlib\n",
    "matplotlib.rcParams['font.family'].insert(0, 'Malgun Gothic') \n",
    "\n",
    "# 학습모델 및 평가 도구 import \n",
    "from xgboost import XGBRegressor\n",
    "from sklearn.ensemble import AdaBoostRegressor\n",
    "import  sklearn.metrics as mt\n",
    "from sklearn.neighbors import KNeighborsRegressor\n",
    "import lightgbm as lgb\n",
    "from lightgbm import LGBMRegressor\n",
    "import sklearn.model_selection as ms\n",
    "\n",
    "# 0-1 전처리 라이브러리 import \n",
    "from sklearn.preprocessing import MinMaxScaler\n",
    "\n",
    "# 인공신경망 모델 라이브러리 import \n",
    "from keras.models import Sequential\n",
    "from keras.layers import Dense\n",
    "import numpy as np\n",
    "import tensorflow as tf\n",
    "from tensorflow import keras\n",
    "from tensorflow.keras import layers\n",
    "from tensorflow.keras.optimizers import RMSprop"
   ]
  },
  {
   "cell_type": "code",
   "execution_count": 23,
   "metadata": {},
   "outputs": [],
   "source": [
    "# 빅콘테스트 기본 제공 데이터(홈쇼핑 실적, 시청률) 불러오기\n",
    "실적데이터1 = pd.read_excel('../01_제공데이터/2020 빅콘테스트 데이터분석분야-챔피언리그_2019년 실적데이터.xlsx', header=1)\n",
    "평가데이터1 = pd.read_excel('../02_평가데이터/2020 빅콘테스트 데이터분석분야-챔피언리그_2020년 6월 판매실적예측데이터(평가데이터).xlsx', header=1)\n",
    "시청률데이터1 = pd.read_excel('../01_제공데이터/2020 빅콘테스트 데이터분석분야-챔피언리그_시청률 데이터.xlsx', header=1)\n",
    "\n",
    "# 시청률데이터1 전처리\n",
    "\n",
    "# 행과 열의 마지막 잘라내기 (평균 낸거 지우기)\n",
    "시청률데이터1 = 시청률데이터1.iloc[:-1, :-1]\n",
    "\n",
    "# 시간대 뒤에 ':00붙이기'  <- 성과데이터의 데이터화 규격 맞추기 위함.\n",
    "시청률데이터1['시간대'] = 시청률데이터1['시간대'] + ':00'\n",
    "\n",
    "# 시간대열 인덱스로 바꾸기\n",
    "시청률데이터1.set_index('시간대', inplace=True)\n",
    "\n",
    "# 외부데이터 강수량, 풍속, 기온 데이터\n",
    "강수량1 = pd.read_csv('../01_제공데이터/강수량.csv', encoding='euc-kr')\n",
    "풍속1 = pd.read_csv('../01_제공데이터/풍속.csv', encoding='euc-kr')\n",
    "기온1 = pd.read_csv('../01_제공데이터/기온.csv', encoding='euc-kr')\n",
    "\n",
    "# 강수량, 풍속, 기온 데이터에서 원하는 열만 선택하여 성과데이터에 합칠 준비\n",
    "강수량 = 강수량1.sort_values(by = '일시')\n",
    "풍속 = 풍속1.sort_values(by = '일시')\n",
    "기온 = 기온1.sort_values(by = '일시')\n",
    "\n",
    "풍속.일시=pd.to_datetime(풍속.일시).map(lambda x : str(x).split(\" \")[0])\n",
    "\n",
    "강수량 = 강수량[['일시', '평균일강수량(mm)']]\n",
    "풍속 = 풍속[['일시', '최대풍속(m/s)']]\n",
    "기온 = 기온[['일시', '평균최고기온(℃)', '평균최저기온(℃)']]\n",
    "\n",
    "강수량.index = list(range(365))\n",
    "풍속.index = list(range(365))\n",
    "기온.index = list(range(365))"
   ]
  },
  {
   "cell_type": "code",
   "execution_count": 92,
   "metadata": {
    "scrolled": true
   },
   "outputs": [
    {
     "name": "stderr",
     "output_type": "stream",
     "text": [
      "D:\\ringa\\anaconda3\\lib\\site-packages\\ipykernel_launcher.py:21: FutureWarning: Series.dt.weekofyear and Series.dt.week have been deprecated.  Please use Series.dt.isocalendar().week instead.\n"
     ]
    }
   ],
   "source": [
    "# 데이터 매번 불러오지 않기 위해 복사해서 저장\n",
    "실적데이터 = 실적데이터1.copy()\n",
    "시청률데이터 = 시청률데이터1.copy()\n",
    "평가데이터 = 평가데이터1.copy()\n",
    "\n",
    "# 컬럼명 변경 (노출(분) -> 노출만 변경)\n",
    "실적데이터.columns = ['방송일시', '노출', '마더코드', '상품코드', '상품명', '상품군', '판매단가', '취급액']\n",
    "\n",
    "# 결측치 제거 (취급액은 0으로, 노출은 위의 값으로 채움)\n",
    "실적데이터.취급액 = 실적데이터.취급액.fillna(0)\n",
    "실적데이터.노출 = 실적데이터.노출.fillna(method = 'ffill')\n",
    "\n",
    "# 2020 데이터 지우기\n",
    "실적데이터 = 실적데이터[:38300]\n",
    "\n",
    "# 방송일시로부터 시간(월, 주, 요일, 일, 시간, ) 데이터 열로 추가\n",
    "dt = datetime.datetime.now()\n",
    "\n",
    "실적데이터['요일'] = 실적데이터['방송일시'].dt.dayofweek\n",
    "실적데이터['월']  = 실적데이터['방송일시'].dt.month\n",
    "실적데이터['주'] = 실적데이터['방송일시'].dt.week\n",
    "실적데이터['시']  = 실적데이터['방송일시'].dt.hour\n",
    "실적데이터['일'] = 실적데이터['방송일시'].dt.day\n",
    "실적데이터['분'] = 실적데이터['방송일시'].dt.minute\n",
    "\n",
    "실적데이터['방송시간'] = 실적데이터.방송일시.apply(lambda x : str(x)).apply(lambda x : x.split(' ')[1][:])\n",
    "실적데이터['일시'] = 실적데이터.방송일시.apply(lambda x : str(x)).apply(lambda x : x.split(' ')[0])\n",
    "\n",
    "최고시청률=[]\n",
    "for i in range(len(실적데이터)):\n",
    "    시작=실적데이터.방송시간.iloc[i]\n",
    "    종료=str(pd.to_datetime(실적데이터.방송시간.iloc[i])+datetime.timedelta(minutes=round(float(실적데이터.노출.iloc[i]),0)-1)).split(\" \")[1][:]\n",
    "    최고시청률.append((시청률데이터[실적데이터.일시.iloc[i]].loc[시작:종료].max()))\n",
    "    \n",
    "실적데이터['분당최고시청률']=최고시청률\n",
    "\n",
    "# 분당평균시청률 더 잘 보기(* 100)\n",
    "실적데이터['분당최고시청률'] = round(실적데이터['분당최고시청률'] * 100, 3)\n",
    "\n",
    "# 상품명 컬럼 삭제\n",
    "#실적데이터.drop('상품명', axis=1, inplace=True)\n",
    "\n",
    "# 주문량\n",
    "실적데이터['주문량'] = (실적데이터.취급액 / 실적데이터.판매단가).fillna(0)\n",
    "\n",
    "# 판매단가 단위 줄이기\n",
    "실적데이터['판매단가'] = 실적데이터.판매단가 / 100000\n",
    "\n",
    "# 상품코드 마더코드 사이즈 줄이기\n",
    "실적데이터['상품코드'] = 실적데이터.상품코드 - 200000\n",
    "실적데이터['마더코드'] = 실적데이터.마더코드 - 100000\n",
    "\n",
    "\n",
    "# 실적데이터에 강수량 평균, 기온 평균 최고 기온/ 평균 최저 기온, 최대 풍속 추가\n",
    "실적데이터 = pd.merge(실적데이터, 강수량, on='일시' )\n",
    "실적데이터 = pd.merge(실적데이터, 기온, on='일시')\n",
    "실적데이터 = pd.merge(실적데이터, 풍속, on='일시')"
   ]
  },
  {
   "cell_type": "code",
   "execution_count": 225,
   "metadata": {
    "collapsed": true
   },
   "outputs": [
    {
     "data": {
      "text/html": [
       "<div>\n",
       "<style scoped>\n",
       "    .dataframe tbody tr th:only-of-type {\n",
       "        vertical-align: middle;\n",
       "    }\n",
       "\n",
       "    .dataframe tbody tr th {\n",
       "        vertical-align: top;\n",
       "    }\n",
       "\n",
       "    .dataframe thead th {\n",
       "        text-align: right;\n",
       "    }\n",
       "</style>\n",
       "<table border=\"1\" class=\"dataframe\">\n",
       "  <thead>\n",
       "    <tr style=\"text-align: right;\">\n",
       "      <th></th>\n",
       "      <th>날짜</th>\n",
       "    </tr>\n",
       "  </thead>\n",
       "  <tbody>\n",
       "    <tr>\n",
       "      <th>0</th>\n",
       "      <td>2019년 01월 01일</td>\n",
       "    </tr>\n",
       "    <tr>\n",
       "      <th>1</th>\n",
       "      <td>2019년 01월 02일</td>\n",
       "    </tr>\n",
       "    <tr>\n",
       "      <th>2</th>\n",
       "      <td>2019년 01월 03일</td>\n",
       "    </tr>\n",
       "    <tr>\n",
       "      <th>3</th>\n",
       "      <td>2019년 01월 04일</td>\n",
       "    </tr>\n",
       "    <tr>\n",
       "      <th>4</th>\n",
       "      <td>2019년 01월 05일</td>\n",
       "    </tr>\n",
       "    <tr>\n",
       "      <th>...</th>\n",
       "      <td>...</td>\n",
       "    </tr>\n",
       "    <tr>\n",
       "      <th>360</th>\n",
       "      <td>2019년 12월 27일</td>\n",
       "    </tr>\n",
       "    <tr>\n",
       "      <th>361</th>\n",
       "      <td>2019년 12월 28일</td>\n",
       "    </tr>\n",
       "    <tr>\n",
       "      <th>362</th>\n",
       "      <td>2019년 12월 29일</td>\n",
       "    </tr>\n",
       "    <tr>\n",
       "      <th>363</th>\n",
       "      <td>2019년 12월 30일</td>\n",
       "    </tr>\n",
       "    <tr>\n",
       "      <th>364</th>\n",
       "      <td>2019년 12월 31일</td>\n",
       "    </tr>\n",
       "  </tbody>\n",
       "</table>\n",
       "<p>365 rows × 1 columns</p>\n",
       "</div>"
      ],
      "text/plain": [
       "                날짜\n",
       "0    2019년 01월 01일\n",
       "1    2019년 01월 02일\n",
       "2    2019년 01월 03일\n",
       "3    2019년 01월 04일\n",
       "4    2019년 01월 05일\n",
       "..             ...\n",
       "360  2019년 12월 27일\n",
       "361  2019년 12월 28일\n",
       "362  2019년 12월 29일\n",
       "363  2019년 12월 30일\n",
       "364  2019년 12월 31일\n",
       "\n",
       "[365 rows x 1 columns]"
      ]
     },
     "execution_count": 225,
     "metadata": {},
     "output_type": "execute_result"
    }
   ],
   "source": [
    "# NS홈쇼핑 주가 데이터 이용\n",
    "# 2019년 00월 00일 리스트 생성\n",
    "a = []\n",
    "for i in range(13):\n",
    "    if i in [1, 3, 5, 7, 8, 10, 12]:\n",
    "        for j in range(1, 32):\n",
    "            if i < 10:\n",
    "                s1 = '0'+ str(i)\n",
    "            else:\n",
    "                s1 = str(i)\n",
    "            if j < 10:\n",
    "                s2 = '0'+ str(j)\n",
    "            else:\n",
    "                s2 = str(j)\n",
    "            a.append(\"2019년 {}월 {}일\".format(s1, s2))\n",
    "    elif i in [4, 6, 9, 11]:\n",
    "        for j in range(1, 31):\n",
    "            if i < 10:\n",
    "                s1 = '0'+ str(i) \n",
    "            else:\n",
    "                s1 = str(i)\n",
    "            if j < 10:\n",
    "                s2 = '0'+ str(j)\n",
    "            else:\n",
    "                s2 = str(j)\n",
    "            a.append(\"2019년 {}월 {}일\".format(s1, s2))\n",
    "    elif i == 2:\n",
    "        for j in range(1, 29):\n",
    "            if i < 10:\n",
    "                s1 = '0'+ str(i) \n",
    "            else:\n",
    "                s1 = str(i)\n",
    "            if j < 10:\n",
    "                s2 = '0'+ str(j)\n",
    "            else:\n",
    "                s2 = str(j)\n",
    "            a.append(\"2019년 {}월 {}일\".format(s1, s2))\n",
    "        \n",
    "a = pd.DataFrame(a)\n",
    "a.columns = ['날짜']\n",
    "a\n",
    "\n",
    "# 주가데이터 불러오기\n",
    "주가데이터 = pd.read_csv('../01_제공데이터/주가데이터.csv')\n",
    "주가데이터 = 주가데이터.sort_values(by = '날짜')\n",
    "\n",
    "# 주가데이터의 빈 날짜를 a 리스트와 merge를 통해 채움\n",
    "# 날짜 위에서 아래로 1월 1일 ~ 12월 31일\n",
    "주가데이터2 = pd.merge(주가데이터, a, on='날짜', how='outer')\n",
    "주가데이터2 = 주가데이터2.sort_values(by='날짜')\n",
    "\n",
    "# 주가데이터 빈 행은 위아래 행으로 채움\n",
    "주가데이터2 = 주가데이터2.fillna(method = 'ffill')\n",
    "주가데이터2 = 주가데이터2.fillna(method = 'bfill')\n",
    "\n",
    "# 거래량 K 지우고 1000해서 구함\n",
    "주가데이터2.거래량=주가데이터2.거래량.map(lambda x : x[:-1])\n",
    "주가데이터2.거래량=pd.to_numeric(주가데이터2.거래량)\n",
    "주가데이터2.거래량=주가데이터2.거래량*1000\n",
    "\n",
    "temp = pd.concat([실적데이터.pivot_table(index=['월','일'], values='주문량', aggfunc='mean').reset_index(), 주가데이터2.종가], axis=1)\n",
    "temp.종가 = pd.to_numeric(temp.종가.map(lambda X: X.replace(\",\",\"\")))\n",
    "temp.drop(['주문량'], axis=1, inplace=True)\n",
    "실적데이터 = pd.merge(실적데이터, temp, on=['월', '일'], how='outer')"
   ]
  },
  {
   "cell_type": "code",
   "execution_count": 93,
   "metadata": {},
   "outputs": [],
   "source": [
    "# 브랜드 열\n",
    "\n",
    "# 상품명에서 불필요한 단어 제거\n",
    "list1 = []\n",
    "for item in 실적데이터[['상품명']].values:\n",
    "    for i in ['(직매입)', '일시불', '무이자', '도냄', 'a4', '뉴', '(일)', '(무)', '특집', '(쿠)',\n",
    "              '초특가''(세일20%)', '1세트', '2세트', '(더블+더블)', '(더블+싱글)', '(더블사이즈)', \n",
    "              '(싱글사이즈)', '(점보특대형)', '(점보형)', '(중형)', '(퀸+퀸)', '(퀸+싱글)', '(싱글+싱글)', \n",
    "              '(킹사이즈)', '(퀸사이즈)', '[완벽더블]', '파격가', '초특가', '무)', '(렌탈)', '국내산']:\n",
    "        item[0] = item[0].replace(i, \"\")\n",
    "    list1.append(item[0].strip())\n",
    "\n",
    "# 숫자, 영어, 한글을 제외한 문자, 공백 제거\n",
    "list2 = []\n",
    "for i in list1:\n",
    "    result_string = \"\"\n",
    "    for c in i:\n",
    "        if c == \" \":\n",
    "            result_string += c\n",
    "        elif c.isalnum():\n",
    "            result_string += c\n",
    "    list2.append(result_string.strip())\n",
    "    \n",
    "# 브랜드명이 첫 어절에 온다고 판단, 첫 어절로 브랜드 컬럼 생성\n",
    "list3 = []\n",
    "for item in list2:\n",
    "    list3.append(item.split(\" \")[0])\n",
    "실적데이터['브랜드'] = list3\n",
    "\n",
    "# 브랜드별 가중치 부여\n",
    "# 브랜드별 평균 주문량 계산\n",
    "df_temp = 실적데이터.pivot_table(\n",
    "    index='브랜드', values='주문량', aggfunc='count').sort_values(by='주문량', ascending=False)\n",
    "\n",
    "# MinMaxScaler로 0~1 사이값으로 scale 조정\n",
    "df_temp1 = pd.DataFrame(\n",
    "    MinMaxScaler().fit_transform(df_temp), index=df_temp.index)\n",
    "\n",
    "# 브랜드별 평균 주문량의 scale 조절값 = 브랜드 점수. 브랜드 컬럼 생성\n",
    "df_temp1 = df_temp1.reset_index()\n",
    "실적데이터 = pd.merge(실적데이터, df_temp1, on='브랜드')\n",
    "실적데이터.rename({0: '브랜드점수'}, axis=1, inplace=True)\n"
   ]
  },
  {
   "cell_type": "code",
   "execution_count": 94,
   "metadata": {},
   "outputs": [],
   "source": [
    "# ---------------------------------------------- 파생변수 생성 후 필요없는 칼럼 삭제 ------------------------------------------------------------\n",
    "# 수목금토 / 일월화 칼럼 추가\n",
    "# 실적데이터['수목금토'] = 실적데이터.요일.map(lambda X: X in [3,4,5,6]).map(lambda X: 1 if X else 0)\n",
    "실적데이터['주중주말'] = 실적데이터.요일.map(lambda X: X in [5, 6]).map(lambda X: 1 if X else 0)\n",
    "\n",
    "# 7,8,9월의 다른 추세 확인 후 칼럼 생성\n",
    "# 실적데이터['월789'] = 실적데이터.월.map(lambda X: X in [7, 8, 9]).map(lambda X: 1 if X else 0)\n",
    "\n",
    "# 6-10월\n",
    "# 실적데이터['월610'] = 실적데이터.월.map(lambda X: X in [6,7,8,9,10]).map(lambda X: 1 if X else 0)\n",
    "# 11-12월\n",
    "# 실적데이터['월1112'] = 실적데이터.월.map(lambda X: X in [11,12]).map(lambda X: 1 if X else 0)\n",
    "\n",
    "# 상,하반기 구분\n",
    "# 실적데이터['상반기'] = 실적데이터.월.map(lambda X: X in [1,2,3,4,5,6]).map(lambda X: 1 if X else 0)\n",
    "\n",
    "# 계절 구분\n",
    "# 실적데이터['봄'] = 실적데이터.월.map(lambda X: X in [3,4,5]).map(lambda X: 1 if X else 0)\n",
    "# 실적데이터['여름'] = 실적데이터.월.map(lambda X: X in [6,7,8]).map(lambda X: 1 if X else 0)\n",
    "# 실적데이터['가을'] = 실적데이터.월.map(lambda X: X in [9,10,11]).map(lambda X: 1 if X else 0)\n",
    "# 실적데이터['겨울'] = 실적데이터.월.map(lambda X: X in [12,1,2]).map(lambda X: 1 if X else 0)\n",
    "\n",
    "\n",
    "# 일 : 월초,말이랑 중간 비교 / 의미없음\n",
    "# 실적데이터['월말초'] = 실적데이터.일.map(lambda X: X in [1,2,3,4,5,6,27,28,29,30,31]).map(lambda X: 1 if X else 0)\n",
    "\n",
    "# 판매단가 분포에 따른 분류\n",
    "# 실적데이터['저가'] = 실적데이터.판매단가.map(lambda X: 1 if X <=30000 else 0)\n",
    "# 실적데이터['중가'] = 실적데이터.판매단가.map(lambda X: 1 if 30000< X <= 400000  else 0)\n",
    "# 실적데이터['고가'] = 실적데이터.판매단가.map(lambda X: 1 if X >400000  else 0)\n",
    "\n",
    "# 노출 시간 \n",
    "# 실적데이터['노출20미만'] = 실적데이터.노출.map(lambda X: 1 if X < 20  else 0)\n",
    "# 실적데이터['노출2030'] = 실적데이터.노출.map(lambda X: 1 if 20 <= X < 30  else 0)\n",
    "# 실적데이터['노출30이상'] = 실적데이터.노출.map(lambda X: 1 if X >= 30  else 0)\n",
    "\n",
    "# 32주 기준으로 다른 추세 확인\n",
    "# 실적데이터['주32후'] = 실적데이터.주.map(lambda X: 1 if X >= 32  else 0)\n",
    "\n",
    "# 시간별 상품코드 배치 \n",
    "# 실적데이터['시간1015사이20이후'] = 실적데이터.시.map(lambda X: 1 if X >= 20 or 10 < X < 15  else 0)\n",
    "# 실적데이터['시간789사이1518'] = 실적데이터.시.map(lambda X: 1 if 15 < X < 18 or 6<X<10  else 0)\n",
    "# 실적데이터['저녁'] = 실적데이터.시.map(lambda X: 1 if 18 < X <= 23  else 0)\n",
    "# 실적데이터['새벽'] = 실적데이터.시.map(lambda X: 1 if 5 < X < 12  else 0)\n",
    "# 실적데이터['낮'] = 실적데이터.시.map(lambda X: 1 if 11 < X < 20  else 0)\n",
    "\n",
    "# 168개로 나누기\n",
    "# 실적데이터['168시간기준']=실적데이터.방송일시.dt.weekday*24+실적데이터.방송일시.dt.hour\n",
    "\n",
    "# 실적데이터['시간6-9'] = 실적데이터.노출.map(lambda X: 1 if 6 < X < 21  else 0)\n",
    "\n",
    "# 실적데이터['시간15-17'] = 실적데이터.노출.map(lambda X: 1 if 14 < X < 18  else 0)\n",
    "\n",
    "# 방송시간 3시간 별로 분류\n",
    "# 시간대 = []\n",
    "# for i in range(len(실적데이터['방송시간'])):\n",
    "#     time = int(실적데이터['방송시간'][i][:2])\n",
    "#     if time>=0 and time<3:\n",
    "#         시간대.append('새벽1')\n",
    "#     if time>=3 and time<6:\n",
    "#         시간대.append('새벽2')    \n",
    "#     if time>=6 and time<9:\n",
    "#         시간대.append('오전1')\n",
    "#     if time>=9 and time<12:\n",
    "#         시간대.append('오전2')\n",
    "#     if time>=12 and time<15:\n",
    "#         시간대.append('오후1')\n",
    "#     if time>=15 and time<18:\n",
    "#         시간대.append('오후2')\n",
    "#     if time>=18 and time<21:\n",
    "#         시간대.append('저녁1')\n",
    "#     if time>=21 and time<24:\n",
    "#         시간대.append('저녁2')\n",
    "        \n",
    "# 실적데이터['시간대'] = 시간대\n",
    "\n",
    "# 계산할 수 없는 칼럼 삭제\n",
    "실적데이터.drop(['방송일시', '상품명', '방송시간', '일시', '브랜드'], axis=1, inplace=True)"
   ]
  },
  {
   "cell_type": "code",
   "execution_count": 96,
   "metadata": {},
   "outputs": [],
   "source": [
    "#-------------------------------------------통째로 칼럼화---------------------------------------------------------\n",
    "# 요일 칼럼화\n",
    "# 요일_0 ~ 요일_6\n",
    "실적데이터 = pd.concat([실적데이터, pd.get_dummies(실적데이터.요일, prefix='요일')], axis=1)\n",
    "실적데이터.drop('요일', axis=1, inplace=True)\n",
    "\n",
    "# 월 칼럼화\n",
    "# 1 ~ 12 -> 월_1, 월_2, ~ ,월_12\n",
    "실적데이터 = pd.concat([실적데이터, pd.get_dummies(실적데이터.월, prefix='월')], axis=1)\n",
    "실적데이터.drop('월', axis=1, inplace=True)\n",
    "\n",
    "# 일 칼럼화\n",
    "# 1 ~ 31 -> 일_1, 일_2, ~, 일_31\n",
    "실적데이터 = pd.concat([실적데이터, pd.get_dummies(실적데이터.일, prefix='일')], axis=1)\n",
    "실적데이터.drop('일', axis=1, inplace=True)\n",
    "\n",
    "# 시 칼럼화\n",
    "# 1 ~ 23 -> 시_1, 시_2, ~, 시_23\n",
    "실적데이터 = pd.concat([실적데이터, pd.get_dummies(실적데이터.시, prefix='시')], axis=1)\n",
    "실적데이터.drop('시', axis=1, inplace=True)\n",
    "\n",
    "# 없는 분 만들기\n",
    "분_df=pd.get_dummies(실적데이터.분)\n",
    "분=[]\n",
    "분1=['분_'+ str(i) for i in range(0,60,5)]\n",
    "for i in 분_df.columns:\n",
    "    분.append('분_' + str(i))\n",
    "분_df.columns=분\n",
    "for i in [item for item in 분1 if item not in 분]:\n",
    "    분_df[i]=[0 for i in range(len(실적데이터))]\n",
    "분_df=분_df[분1]\n",
    "실적데이터=pd.concat([실적데이터, 분_df],axis=1)\n",
    "\n",
    "# 분 칼럼화\n",
    "# 1 ~ 60 -> 분_1, 분_2, ~, 분_60\n",
    "# 실적데이터 = pd.concat([실적데이터, pd.get_dummies(실적데이터.분, prefix='분')], axis=1)\n",
    "실적데이터.drop('분', axis=1, inplace=True)\n",
    "\n",
    "# 주 칼럼화\n",
    "# 1 ~ 52 -> 주_1, 주_2, ~, 주_52\n",
    "실적데이터 = pd.concat([실적데이터, pd.get_dummies(실적데이터.주, prefix='주')], axis=1)\n",
    "실적데이터.drop('주', axis=1, inplace=True)\n",
    "\n",
    "#168 넘기기\n",
    "#'168시간기준'\n",
    "# 실적데이터 = pd.concat([실적데이터, pd.get_dummies(실적데이터['168시간기준'], prefix='168시간기준')], axis=1)\n",
    "# 실적데이터.drop('168시간기준', axis=1, inplace=True)\n",
    "\n",
    "# 상품군 컬럼화\n",
    "# ['가구', '가전', '건강기능', '농수축', '무형', '생활용품', '속옷', '의류', '이미용', '잡화','주방', '침구']\n",
    "실적데이터 = pd.concat([실적데이터, pd.get_dummies(실적데이터.상품군)], axis=1)\n",
    "실적데이터.drop('상품군', axis=1, inplace=True)\n",
    "\n",
    "# 시간대(3시간 단위) 컬럼화\n",
    "# 실적데이터 = pd.concat([실적데이터, pd.get_dummies(실적데이터.시간대)], axis=1)\n",
    "# 실적데이터.drop('시간대', axis=1, inplace=True)\n",
    "\n",
    "# 상품코드 칼럼화\n",
    "# 1 ~ 52 -> 상품코드_1, 상품코드_2, ~, 상품코드_??\n",
    "#실적데이터 = pd.concat([실적데이터, pd.get_dummies(실적데이터.상품코드, prefix='상품코드')], axis=1)\n",
    "#실적데이터.drop('상품코드', axis=1, inplace=True)\n",
    "\n",
    "# 마더코드 칼럼화\n",
    "# 1 ~ 52 -> 상품코드_1, 상품코드_2, ~, 상품코드_??\n",
    "#실적데이터 = pd.concat([실적데이터, pd.get_dummies(실적데이터.마더코드, prefix='상품코드')], axis=1)\n",
    "#실적데이터.drop('마더코드', axis=1, inplace=True)\n",
    "\n",
    "# ---------------------------------------- 없는 요일 월 등 칼럼 추가 ----------------------------------------------\n",
    "# 월_df=pd.get_dummies(실적데이터.월)\n",
    "# 월=[]\n",
    "# 월1=['1월', '2월', '3월', '4월', '5월', '6월', '7월', '8월', '9월', '10월', '11월', '12월']\n",
    "# for i in 월_df.columns:\n",
    "#     월.append(str(i)+'월')\n",
    "# 월_df.columns=월 \n",
    "# for i in [item for item in 월 if item not in 월1]:\n",
    "#     월_df[i]=[0 for i in range(38300)]\n",
    "# 실적데이터=pd.concat([실적데이터, 월_df],axis=1)\n"
   ]
  },
  {
   "cell_type": "markdown",
   "metadata": {},
   "source": [
    "# 정규화 (선택)"
   ]
  },
  {
   "cell_type": "code",
   "execution_count": null,
   "metadata": {},
   "outputs": [],
   "source": [
    "# z정규화(표준편차를 이용해서 이상치의 영향을 덜 받는 정규화)\n",
    "\n",
    "def z_score_normalize(lst):\n",
    "    normalized = []\n",
    "    for value in lst:\n",
    "        normalized_num = (value - np.mean(lst)) / np.std(lst)\n",
    "        normalized.append(normalized_num)\n",
    "    return normalized\n",
    "\n",
    "\n",
    "# 기존 데이터프레임 전처리\n",
    "X_features = 실적데이터.drop('취급액', axis=1)\n",
    "for i in X_features.columns:\n",
    "    X_features[i] = z_score_normalize(X_features[i])\n",
    "    \n",
    "X_train, X_test, y_train, y_test = \\\n",
    "train_test_split(X_features, y_target ,test_size=0.3, random_state=0)"
   ]
  },
  {
   "cell_type": "code",
   "execution_count": null,
   "metadata": {},
   "outputs": [],
   "source": [
    "# 0~1 정규화\n",
    "minmaxScaler = MinMaxScaler()\n",
    "X_features = minmaxScaler.fit_transform(X_features)\n",
    "y_target = minmaxScaler.fit_transform(np.array(y_target).reshape(-1,1))\n",
    "X_features"
   ]
  },
  {
   "cell_type": "markdown",
   "metadata": {},
   "source": [
    "# Data Split"
   ]
  },
  {
   "cell_type": "code",
   "execution_count": 124,
   "metadata": {},
   "outputs": [],
   "source": [
    "# 파생변수 고르기 위한 drop 변경\n",
    "# 독립변수 = 취급액, 분당평균시청률, 주문량 제외하고 전부\n",
    "# 종속변수 = 주문량\n",
    "실적데이터_test = 실적데이터\n",
    "X_features = 실적데이터_test.drop(['취급액','주문량', '분당최고시청률','평균일강수량(mm)', '평균최고기온(℃)', '평균최저기온(℃)','최대풍속(m/s)'], axis=1)\n",
    "y_target = 실적데이터_test.주문량\n",
    "\n",
    "# train test split\n",
    "X_train, X_test, y_train, y_test = \\\n",
    "train_test_split(X_features, y_target ,test_size=0.3, random_state=0)"
   ]
  },
  {
   "cell_type": "code",
   "execution_count": null,
   "metadata": {},
   "outputs": [],
   "source": [
    "# raw data 기간별로 split 해보기\n",
    "#len(실적데이터) * 0.7\n",
    "X = 실적데이터[:26810]\n",
    "y = 실적데이터[26810:]\n",
    "\n",
    "# X_features = X.drop(['취급액','주문량','마더코드', '상품코드'], axis=1)\n",
    "# y_target = X.주문량\n",
    "\n",
    "# X_test  = y_target.drop(['취급액','주문량','마더코드', '상품코드'], axis=1)\n",
    "# y_test = y_target.주문량"
   ]
  },
  {
   "cell_type": "markdown",
   "metadata": {},
   "source": [
    "# K Fold"
   ]
  },
  {
   "cell_type": "code",
   "execution_count": null,
   "metadata": {},
   "outputs": [],
   "source": [
    "kfold = ms.KFold(5, shuffle=True, random_state=0)\n",
    "\n",
    "n_iter = 0\n",
    "r2_scores = []\n",
    "\n",
    "for train_num, test_num in kfold.split(X):\n",
    "    X_train, X_test = X.iloc[train_num], X.iloc[test_num]\n",
    "    y_train, y_test = y.iloc[train_num], y.iloc[test_num]\n",
    "    \n",
    "    xgb_reg.fit(X_train, y_train)\n",
    "    y_pred = xgb_reg.predict(X_test)\n",
    "    \n",
    "    n_iter += 1\n",
    "    r2_scores.append(mt.r2_score(y_test, y_pred))"
   ]
  },
  {
   "cell_type": "code",
   "execution_count": null,
   "metadata": {},
   "outputs": [],
   "source": [
    "# data를 랜덤으로 찢었을 때\n",
    "for i in range(n_iter):\n",
    "    print(r2_scores[i])\n",
    "print('평균: ', np.round(np.mean(r2_scores), 3))"
   ]
  },
  {
   "cell_type": "markdown",
   "metadata": {},
   "source": [
    "# XGBoost "
   ]
  },
  {
   "cell_type": "code",
   "execution_count": 252,
   "metadata": {},
   "outputs": [],
   "source": [
    "xgb_reg = XGBRegressor(n_estimators=500, gamma=1, learning_rate=0.1, max_depth=15, n_jobs=-1,\n",
    "                       min_child_weight=5, random_state=1)\n",
    "\n",
    "xgb_reg.fit(X_train, y_train) # early_stopping_rounds=200,\n",
    "         # eval_set = [(X_test, y_test)], eval_metric='logloss')"
   ]
  },
  {
   "cell_type": "code",
   "execution_count": 125,
   "metadata": {},
   "outputs": [
    {
     "data": {
      "text/plain": [
       "0.8744919685063357"
      ]
     },
     "execution_count": 125,
     "metadata": {},
     "output_type": "execute_result"
    }
   ],
   "source": [
    "xgb_reg.score(X_test, y_test)"
   ]
  },
  {
   "cell_type": "markdown",
   "metadata": {},
   "source": [
    "# LGBMRegressor"
   ]
  },
  {
   "cell_type": "code",
   "execution_count": 303,
   "metadata": {
    "collapsed": true
   },
   "outputs": [
    {
     "data": {
      "text/plain": [
       "0.815747113908251"
      ]
     },
     "execution_count": 303,
     "metadata": {},
     "output_type": "execute_result"
    }
   ],
   "source": [
    "# conda install lightgbm\n",
    "lgbm_reg = LGBMRegressor()\n",
    "\n",
    "num = len(X_train.columns) # len 뽑아서 열을 숫자 형태로 바꿔줘야 모델 학습 가능\n",
    "\n",
    "# 위에서 뽑은 길이대로 숫자 리스트 만들어서 train 데이터 열 형태를 모두 수치화 후 학습\n",
    "# 열 확인 위해서는 데이터 다시 가져와야 함\n",
    "cols = []\n",
    "for i in range(num):\n",
    "        cols.append(str(i))\n",
    "X_train.columns = cols\n",
    "\n",
    "lgbm_reg.fit(X_train, y_train)\n",
    "y_pred = lgbm_reg.predict(X_test)\n",
    "mt.r2_score(y_test, y_pred)"
   ]
  },
  {
   "cell_type": "markdown",
   "metadata": {},
   "source": [
    "# AdaBoost"
   ]
  },
  {
   "cell_type": "code",
   "execution_count": null,
   "metadata": {},
   "outputs": [],
   "source": [
    "ada_reg = AdaBoostRegressor(base_estimator=None, learning_rate=0.05, loss='exponential',\n",
    "         n_estimators=100, random_state=0) \n",
    "\n",
    "ada_reg.fit(X_train, y_train)\n",
    "\n",
    "y_pred = ada_reg.predict(X_test)\n",
    "\n",
    "mt.r2_score(y_test, y_pred)"
   ]
  },
  {
   "cell_type": "markdown",
   "metadata": {},
   "source": [
    "# KNN"
   ]
  },
  {
   "cell_type": "code",
   "execution_count": null,
   "metadata": {},
   "outputs": [],
   "source": [
    "knn_reg = KNeighborsRegressor(n_neighbors = 12, weights = \"distance\")\n",
    "knn_reg.fit(X_train, y_train)\n",
    "\n",
    "y_pred = knn_reg.predict(X_test)\n",
    "\n",
    "mt.r2_score(y_test, y_pred)"
   ]
  },
  {
   "cell_type": "markdown",
   "metadata": {},
   "source": [
    "# 심층신경망"
   ]
  },
  {
   "cell_type": "code",
   "execution_count": null,
   "metadata": {},
   "outputs": [],
   "source": [
    "# X_train, X_test, y_train, y_test = train_test_split(X, y)\n",
    "\n",
    "# model = keras.models.Sequential([\n",
    "#     keras.layers.Flatten(input_shape=[11]),\n",
    "#     keras.layers.Dense(300, kernel_initializer=\"he_normal\"),\n",
    "#     keras.layers.LeakyReLU(),\n",
    "#     keras.layers.Dense(100),\n",
    "#     keras.layers.LeakyReLU(),\n",
    "#     keras.layers.Dense(1, activation=\"softmax\")\n",
    "# ])\n",
    "n=X_train.shape[1:]\n",
    "model = keras.models.Sequential([\n",
    "    keras.layers.Dense(64, activation='relu', input_shape=n, kernel_initializer='normal'),\n",
    "    keras.layers.Dense(32, activation='relu', kernel_initializer='normal'),\n",
    "    keras.layers.Dense(1)\n",
    "])\n",
    "\n",
    "# model = tf.keras.models.Sequential()\n",
    "# model.add(tf.keras.Input(shape=X_train.shape[1:]))\n",
    "# model.add(tf.keras.layers.Dense(32, activation='relu'))\n",
    "# model.add(tf.keras.layers.Dense(1, activation='sigmoid'))\n",
    "\n",
    "\n",
    "model.compile(optimizer=keras.optimizers.Adam(lr=0.001), loss='mse', metrics=['mae'])\n",
    "\n",
    "\n",
    "model.summary()"
   ]
  },
  {
   "cell_type": "code",
   "execution_count": null,
   "metadata": {},
   "outputs": [],
   "source": [
    "history = model.fit(X_train, y_train, epochs=30, batch_size=10, validation_split=0.2, verbose=1)\n",
    "# test_mse_score, test_mae_score = model.evaluate(X_test, y_test)\n",
    "loss_and_metrics = model.evaluate(X_test, y_test)\n",
    "print(f'\\nLoss : {loss_and_metrics[0]:6}')\n",
    "print(f'mae : {loss_and_metrics[1]:6}')"
   ]
  },
  {
   "cell_type": "code",
   "execution_count": null,
   "metadata": {},
   "outputs": [],
   "source": [
    "y_pred=model.predict(X_test)\n",
    "mt.r2_score(y_test, y_pred)"
   ]
  },
  {
   "cell_type": "markdown",
   "metadata": {},
   "source": [
    "# 하이퍼 파라미터 조정"
   ]
  },
  {
   "cell_type": "code",
   "execution_count": 9,
   "metadata": {},
   "outputs": [],
   "source": [
    "from sklearn.model_selection import GridSearchCV\n",
    "\n",
    "xgb_param = {\n",
    "    'subsample': [0.4, 0.6],                   #  2\n",
    "    'min_child_weight':[1, 5, 10],             #  3\n",
    "    'gamma':[0.5, 1, 1.5, 2, 5],               #  4\n",
    "    'max_depth':[4,10,15],                     #  3\n",
    "    'eta':[0.05, 0.01,  0.1, 0.3]              #  4\n",
    "}\n",
    "xgb = XGBRegressor()\n",
    "grid_xgb = GridSearchCV(xgb, param_grid=xgb_param, scoring='r2', cv=5)\n",
    "grid_xgb.fit(X_train, y_train)\n",
    "\n",
    "print('final params', grid_xgb.best_params_)   # 최적의 파라미터 값 출력\n",
    "print('best score', grid_xgb.best_score_)      # 최고의 점수"
   ]
  },
  {
   "cell_type": "markdown",
   "metadata": {},
   "source": [
    "# final params {'eta': 0.1, 'gamma': 1, 'max_depth': 15, 'min_child_weight': 5, 'subsample': 0.6}\n",
    "#  best score 0.8600565191649612"
   ]
  },
  {
   "cell_type": "markdown",
   "metadata": {},
   "source": [
    "# 평가데이터 취급액 예측"
   ]
  },
  {
   "cell_type": "code",
   "execution_count": 126,
   "metadata": {},
   "outputs": [
    {
     "name": "stderr",
     "output_type": "stream",
     "text": [
      "D:\\ringa\\anaconda3\\lib\\site-packages\\ipykernel_launcher.py:15: FutureWarning: Series.dt.weekofyear and Series.dt.week have been deprecated.  Please use Series.dt.isocalendar().week instead.\n",
      "  from ipykernel import kernelapp as app\n"
     ]
    }
   ],
   "source": [
    "평가데이터 = 평가데이터1.copy()\n",
    "\n",
    "# 컬럼명 변경 (노출(분) -> 노출만 변경)\n",
    "평가데이터.columns = ['방송일시', '노출', '마더코드', '상품코드', '상품명', '상품군', '판매단가', '취급액']\n",
    "\n",
    "# 결측치 제거 (취급액은 0으로, 노출은 위의 값으로 채움)\n",
    "평가데이터.취급액 = 평가데이터.취급액.fillna(0)\n",
    "평가데이터.노출 = 평가데이터.노출.fillna(method = 'ffill')\n",
    "\n",
    "# 방송일시로부터 시간(월, 주, 요일, 일, 시간, ) 데이터 열로 추가\n",
    "dt = datetime.datetime.now()\n",
    "\n",
    "평가데이터['요일'] = 평가데이터['방송일시'].dt.dayofweek\n",
    "평가데이터['월']  = 평가데이터['방송일시'].dt.month\n",
    "평가데이터['주'] = 평가데이터['방송일시'].dt.week\n",
    "평가데이터['시']  = 평가데이터['방송일시'].dt.hour\n",
    "평가데이터['일'] = 평가데이터['방송일시'].dt.day\n",
    "평가데이터['분'] = 평가데이터['방송일시'].dt.minute\n",
    "\n",
    "평가데이터['방송시간'] = 평가데이터.방송일시.apply(lambda x : str(x)).apply(lambda x : x.split(' ')[1][:])\n",
    "평가데이터['일시'] = 평가데이터.방송일시.apply(lambda x : str(x)).apply(lambda x : x.split(' ')[0])\n",
    "\n",
    "\n",
    "# 상품명 컬럼 삭제\n",
    "#평가데이터.drop('상품명', axis=1, inplace=True)\n",
    "\n",
    "\n",
    "# 판매단가 단위 줄이기\n",
    "평가데이터['판매단가'] = 평가데이터.판매단가 / 100000\n",
    "\n",
    "# 상품코드 마더코드 사이즈 줄이기\n",
    "평가데이터['상품코드'] = 평가데이터.상품코드 - 200000\n",
    "평가데이터['마더코드'] = 평가데이터.마더코드 - 100000"
   ]
  },
  {
   "cell_type": "code",
   "execution_count": 127,
   "metadata": {},
   "outputs": [],
   "source": [
    "# 브랜드 열\n",
    "\n",
    "# 상품명에서 불필요한 단어 제거\n",
    "list1 = []\n",
    "for item in 평가데이터[['상품명']].values:\n",
    "    for i in ['(직매입)', '일시불', '무이자', '도냄', 'a4', '뉴', '(일)', '(무)', '특집', '(쿠)',\n",
    "              '초특가''(세일20%)', '1세트', '2세트', '(더블+더블)', '(더블+싱글)', '(더블사이즈)', \n",
    "              '(싱글사이즈)', '(점보특대형)', '(점보형)', '(중형)', '(퀸+퀸)', '(퀸+싱글)', '(싱글+싱글)', \n",
    "              '(킹사이즈)', '(퀸사이즈)', '[완벽더블]', '파격가', '초특가', '무)', '(렌탈)', '국내산']:\n",
    "        item[0] = item[0].replace(i, \"\")\n",
    "    list1.append(item[0].strip())\n",
    "\n",
    "# 숫자, 영어, 한글을 제외한 문자, 공백 제거\n",
    "list2 = []\n",
    "for i in list1:\n",
    "    result_string = \"\"\n",
    "    for c in i:\n",
    "        if c == \" \":\n",
    "            result_string += c\n",
    "        elif c.isalnum():\n",
    "            result_string += c\n",
    "    list2.append(result_string.strip())\n",
    "    \n",
    "# 브랜드명이 첫 어절에 온다고 판단, 첫 어절로 브랜드 컬럼 생성\n",
    "list3 = []\n",
    "for item in list2:\n",
    "    list3.append(item.split(\" \")[0])\n",
    "평가데이터['브랜드'] = list3\n",
    "\n",
    "# 브랜드별 가중치 부여\n",
    "# 브랜드별 평균 주문량 계산\n",
    "df_temp = 평가데이터.pivot_table(\n",
    "    index='브랜드', values='마더코드', aggfunc='count')"
   ]
  },
  {
   "cell_type": "code",
   "execution_count": 129,
   "metadata": {},
   "outputs": [],
   "source": [
    "# MinMaxScaler로 0~1 사이값으로 scale 조정\n",
    "df_temp1 = pd.DataFrame(\n",
    "    MinMaxScaler().fit_transform(df_temp), index=df_temp.index)\n",
    "\n",
    "# 브랜드별 평균 주문량의 scale 조절값 = 브랜드 점수. 브랜드 컬럼 생성\n",
    "df_temp1 = df_temp1.reset_index()\n",
    "평가데이터 = pd.merge(평가데이터, df_temp1, on='브랜드')\n",
    "평가데이터.rename({0: '브랜드점수'}, axis=1, inplace=True)\n",
    "\n",
    "평가데이터['주중주말'] = 평가데이터.요일.map(lambda X: X in [5, 6]).map(lambda X: 1 if X else 0)\n",
    "\n",
    "# 계산할 수 없는 칼럼 삭제\n",
    "평가데이터.drop(['방송일시', '상품명', '방송시간', '일시', '브랜드'], axis=1, inplace=True)\n",
    "\n",
    "#-------------------------------------------통째로 칼럼화---------------------------------------------------------\n",
    "# 요일 칼럼화\n",
    "# 요일_0 ~ 요일_6\n",
    "평가데이터 = pd.concat([평가데이터, pd.get_dummies(평가데이터.요일, prefix='요일')], axis=1)\n",
    "평가데이터.drop('요일', axis=1, inplace=True)\n",
    "\n",
    "# 주월분 없는거 만들기\n",
    "월_df=pd.get_dummies(평가데이터.월)\n",
    "월=[]\n",
    "월1=['월_'+ str(i) for i in range(1,13)]\n",
    "for i in 월_df.columns:\n",
    "    월.append('월_' + str(i))\n",
    "월_df.columns=월\n",
    "for i in [item for item in 월1 if item not in 월]:\n",
    "    월_df[i]=[0 for i in range(len(평가데이터))]\n",
    "월_df=월_df[월1]\n",
    "평가데이터=pd.concat([평가데이터, 월_df],axis=1)\n",
    "\n",
    "일_df=pd.get_dummies(평가데이터.일)\n",
    "일=[]\n",
    "일1=['일_' + str(i) for i in range(1,32)]\n",
    "for i in 일_df.columns:\n",
    "    일.append('일_' + str(i))\n",
    "일_df.columns=일\n",
    "for i in [item for item in 일1 if item not in 일]:\n",
    "    일_df[i]=[0 for i in range(len(평가데이터))]\n",
    "일_df=일_df[일1]\n",
    "평가데이터=pd.concat([평가데이터, 일_df],axis=1)\n",
    "\n",
    "# 시 칼럼화\n",
    "# 1 ~ 23 -> 시_1, 시_2, ~, 시_23\n",
    "평가데이터 = pd.concat([평가데이터, pd.get_dummies(평가데이터.시, prefix='시')], axis=1)\n",
    "평가데이터.drop('시', axis=1, inplace=True)\n",
    "\n",
    "분_df=pd.get_dummies(평가데이터.분)\n",
    "분=[]\n",
    "분1=['분_'+ str(i) for i in range(0,60,5)]\n",
    "for i in 분_df.columns:\n",
    "    분.append('분_' + str(i))\n",
    "분_df.columns=분\n",
    "for i in [item for item in 분1 if item not in 분]:\n",
    "    분_df[i]=[0 for i in range(len(평가데이터))]\n",
    "분_df=분_df[분1]\n",
    "평가데이터=pd.concat([평가데이터, 분_df],axis=1)\n",
    "\n",
    "주_df=pd.get_dummies(평가데이터.주)\n",
    "주=[]\n",
    "주1=['주_'+ str(i) for i in range(1,53)]\n",
    "for i in 주_df.columns:\n",
    "    주.append('주_' + str(i))\n",
    "주_df.columns=주\n",
    "for i in [item for item in 주1 if item not in 주]:\n",
    "    주_df[i]=[0 for i in range(len(평가데이터))]\n",
    "주_df=주_df[주1]\n",
    "평가데이터=pd.concat([평가데이터, 주_df],axis=1)\n",
    "\n",
    "# # 월 칼럼화\n",
    "# # 1 ~ 12 -> 월_1, 월_2, ~ ,월_12\n",
    "# 평가데이터 = pd.concat([평가데이터, pd.get_dummies(평가데이터.월, prefix='월')], axis=1)\n",
    "평가데이터.drop('월', axis=1, inplace=True)\n",
    "\n",
    "# 일 칼럼화\n",
    "# 1 ~ 31 -> 일_1, 일_2, ~, 일_31\n",
    "# 평가데이터 = pd.concat([평가데이터, pd.get_dummies(평가데이터.일, prefix='일')], axis=1)\n",
    "평가데이터.drop('일', axis=1, inplace=True)\n",
    "\n",
    "\n",
    "\n",
    "# # 분 칼럼화\n",
    "# # 1 ~ 60 -> 분_1, 분_2, ~, 분_60\n",
    "# 평가데이터 = pd.concat([평가데이터, pd.get_dummies(평가데이터.분, prefix='분')], axis=1)\n",
    "평가데이터.drop('분', axis=1, inplace=True)\n",
    "\n",
    "# # 주 칼럼화\n",
    "# # 1 ~ 52 -> 주_1, 주_2, ~, 주_52\n",
    "# 평가데이터 = pd.concat([평가데이터, pd.get_dummies(평가데이터.주, prefix='주')], axis=1)\n",
    "평가데이터.drop('주', axis=1, inplace=True)\n",
    "\n",
    "#168 넘기기\n",
    "#'168시간기준'\n",
    "# 평가데이터 = pd.concat([평가데이터, pd.get_dummies(평가데이터['168시간기준'], prefix='168시간기준')], axis=1)\n",
    "# 평가데이터.drop('168시간기준', axis=1, inplace=True)\n",
    "\n",
    "# 상품군 컬럼화\n",
    "# ['가구', '가전', '건강기능', '농수축', '무형', '생활용품', '속옷', '의류', '이미용', '잡화','주방', '침구']\n",
    "평가데이터 = pd.concat([평가데이터, pd.get_dummies(평가데이터.상품군)], axis=1)\n",
    "평가데이터.drop('상품군', axis=1, inplace=True)\n",
    "\n",
    "# 시간대(3시간 단위) 컬럼화\n",
    "# 평가데이터 = pd.concat([평가데이터, pd.get_dummies(평가데이터.시간대)], axis=1)\n",
    "# 평가데이터.drop('시간대', axis=1, inplace=True)\n",
    "\n",
    "# 상품코드 칼럼화\n",
    "# 1 ~ 52 -> 상품코드_1, 상품코드_2, ~, 상품코드_??\n",
    "#평가데이터 = pd.concat([평가데이터, pd.get_dummies(평가데이터.상품코드, prefix='상품코드')], axis=1)\n",
    "#평가데이터.drop('상품코드', axis=1, inplace=True)\n",
    "\n",
    "# 마더코드 칼럼화\n",
    "# 1 ~ 52 -> 상품코드_1, 상품코드_2, ~, 상품코드_??\n",
    "#평가데이터 = pd.concat([평가데이터, pd.get_dummies(평가데이터.마더코드, prefix='상품코드')], axis=1)\n",
    "#평가데이터.drop('마더코드', axis=1, inplace=True)\n",
    "\n",
    "# ---------------------------------------- 없는 요일 월 등 칼럼 추가 ----------------------------------------------\n",
    "# 월_df=pd.get_dummies(평가데이터.월)\n",
    "# 월=[]\n",
    "# 월1=['1월', '2월', '3월', '4월', '5월', '6월', '7월', '8월', '9월', '10월', '11월', '12월']\n",
    "# for i in 월_df.columns:\n",
    "#     월.append(str(i)+'월')\n",
    "# 월_df.columns=월 \n",
    "# for i in [item for item in 월 if item not in 월1]:\n",
    "#     월_df[i]=[0 for i in range(38300)]\n",
    "# 평가데이터=pd.concat([평가데이터, 월_df],axis=1)\n",
    "\n",
    "평가데이터.drop(['취급액'], axis=1, inplace=True)"
   ]
  },
  {
   "cell_type": "code",
   "execution_count": 159,
   "metadata": {},
   "outputs": [],
   "source": [
    "# 평가데이터 취급액 예측\n",
    "result = xgb_reg.predict(평가데이터)\n",
    "판매단가 = 평가데이터.판매단가 * 100000\n",
    "result = 판매단가 * result\n",
    "평가데이터1  = pd.concat([평가데이터1, result], axis=1)\n",
    "평가데이터1.drop('취급액', axis=1, inplace=True)\n",
    "평가데이터1.columns = ['방송일시', '노출(분)', '마더코드', '상품코드', '상품명', '상품군', '판매단가', '예상취급액']\n",
    "\n",
    "# 방송일시로부터 시간(월, 주, 요일, 일, 시간, ) 데이터 열로 추가\n",
    "dt = datetime.datetime.now()\n",
    "\n",
    "평가데이터1['요일'] = 평가데이터1['방송일시'].dt.dayofweek\n",
    "평가데이터1['월']  = 평가데이터1['방송일시'].dt.month\n",
    "평가데이터1['주'] = 평가데이터1['방송일시'].dt.week\n",
    "평가데이터1['시']  = 평가데이터1['방송일시'].dt.hour\n",
    "평가데이터1['일'] = 평가데이터1['방송일시'].dt.day\n",
    "평가데이터1['분'] = 평가데이터1['방송일시'].dt.minute\n",
    "\n",
    "평가데이터1['방송시간'] = 평가데이터1.방송일시.apply(lambda x : str(x)).apply(lambda x : x.split(' ')[1][:])\n",
    "평가데이터1['일시'] = 평가데이터1.방송일시.apply(lambda x : str(x)).apply(lambda x : x.split(' ')[0])"
   ]
  },
  {
   "cell_type": "code",
   "execution_count": 244,
   "metadata": {
    "collapsed": true
   },
   "outputs": [
    {
     "data": {
      "image/png": "[encoded data removed]",
      "text/plain": [
       "<Figure size 432x288 with 1 Axes>"
      ]
     },
     "metadata": {
      "needs_background": "light"
     },
     "output_type": "display_data"
    },
    {
     "data": {
      "image/png": "[encoded data removed]",
      "text/plain": [
       "<Figure size 432x288 with 1 Axes>"
      ]
     },
     "metadata": {
      "needs_background": "light"
     },
     "output_type": "display_data"
    },
    {
     "data": {
      "image/png": "[encoded data removed]",
      "text/plain": [
       "<Figure size 432x288 with 1 Axes>"
      ]
     },
     "metadata": {
      "needs_background": "light"
     },
     "output_type": "display_data"
    },
    {
     "data": {
      "image/png": "[encoded data removed]",
      "text/plain": [
       "<Figure size 432x288 with 1 Axes>"
      ]
     },
     "metadata": {
      "needs_background": "light"
     },
     "output_type": "display_data"
    },
    {
     "data": {
      "image/png": "[encoded data removed]",
      "text/plain": [
       "<Figure size 432x288 with 1 Axes>"
      ]
     },
     "metadata": {
      "needs_background": "light"
     },
     "output_type": "display_data"
    },
    {
     "data": {
      "image/png": "[encoded data removed]",
      "text/plain": [
       "<Figure size 432x288 with 1 Axes>"
      ]
     },
     "metadata": {
      "needs_background": "light"
     },
     "output_type": "display_data"
    },
    {
     "data": {
      "image/png": "[encoded data removed]",
      "text/plain": [
       "<Figure size 432x288 with 1 Axes>"
      ]
     },
     "metadata": {
      "needs_background": "light"
     },
     "output_type": "display_data"
    },
    {
     "data": {
      "image/png": "[encoded data removed]",
      "text/plain": [
       "<Figure size 432x288 with 1 Axes>"
      ]
     },
     "metadata": {
      "needs_background": "light"
     },
     "output_type": "display_data"
    },
    {
     "data": {
      "image/png": "[encoded data removed]",
      "text/plain": [
       "<Figure size 432x288 with 1 Axes>"
      ]
     },
     "metadata": {
      "needs_background": "light"
     },
     "output_type": "display_data"
    },
    {
     "data": {
      "image/png": "[encoded data removed]",
      "text/plain": [
       "<Figure size 432x288 with 1 Axes>"
      ]
     },
     "metadata": {
      "needs_background": "light"
     },
     "output_type": "display_data"
    },
    {
     "data": {
      "image/png": "[encoded data removed]",
      "text/plain": [
       "<Figure size 432x288 with 1 Axes>"
      ]
     },
     "metadata": {
      "needs_background": "light"
     },
     "output_type": "display_data"
    },
    {
     "data": {
      "image/png": "[encoded data removed]",
      "text/plain": [
       "<Figure size 432x288 with 1 Axes>"
      ]
     },
     "metadata": {
      "needs_background": "light"
     },
     "output_type": "display_data"
    }
   ],
   "source": [
    "# 상품군 시간별 예상취급액 그래프\n",
    "ratio25 = int(len(평가데이터) * 0.25)\n",
    "for item in 평가데이터1.상품군.unique():\n",
    "    plt.figure()\n",
    "    평가데이터1[평가데이터1.상품군 == item].sort_values(by='예상취급액', ascending=False).시[:ratio25].value_counts().plot(kind='bar')\n",
    "    plt.xticks(rotation=0)\n",
    "    plt.xlabel(item)\n",
    "    #plt.savefig('{}시간.png'.format(item))"
   ]
  },
  {
   "cell_type": "code",
   "execution_count": 251,
   "metadata": {
    "collapsed": true
   },
   "outputs": [
    {
     "data": {
      "image/png": "[encoded data removed]",
      "text/plain": [
       "<Figure size 432x288 with 1 Axes>"
      ]
     },
     "metadata": {
      "needs_background": "light"
     },
     "output_type": "display_data"
    },
    {
     "data": {
      "image/png": "[encoded data removed]",
      "text/plain": [
       "<Figure size 432x288 with 1 Axes>"
      ]
     },
     "metadata": {
      "needs_background": "light"
     },
     "output_type": "display_data"
    },
    {
     "data": {
      "image/png": "[encoded data removed]",
      "text/plain": [
       "<Figure size 432x288 with 1 Axes>"
      ]
     },
     "metadata": {
      "needs_background": "light"
     },
     "output_type": "display_data"
    },
    {
     "data": {
      "image/png": "[encoded data removed]",
      "text/plain": [
       "<Figure size 432x288 with 1 Axes>"
      ]
     },
     "metadata": {
      "needs_background": "light"
     },
     "output_type": "display_data"
    },
    {
     "data": {
      "image/png": "[encoded data removed]",
      "text/plain": [
       "<Figure size 432x288 with 1 Axes>"
      ]
     },
     "metadata": {
      "needs_background": "light"
     },
     "output_type": "display_data"
    },
    {
     "data": {
      "image/png": "[encoded data removed]",
      "text/plain": [
       "<Figure size 432x288 with 1 Axes>"
      ]
     },
     "metadata": {
      "needs_background": "light"
     },
     "output_type": "display_data"
    },
    {
     "data": {
      "image/png": "[encoded data removed]",
      "text/plain": [
       "<Figure size 432x288 with 1 Axes>"
      ]
     },
     "metadata": {
      "needs_background": "light"
     },
     "output_type": "display_data"
    },
    {
     "data": {
      "image/png": "[encoded data removed]",
      "text/plain": [
       "<Figure size 432x288 with 1 Axes>"
      ]
     },
     "metadata": {
      "needs_background": "light"
     },
     "output_type": "display_data"
    },
    {
     "data": {
      "image/png": "[encoded data removed]",
      "text/plain": [
       "<Figure size 432x288 with 1 Axes>"
      ]
     },
     "metadata": {
      "needs_background": "light"
     },
     "output_type": "display_data"
    },
    {
     "data": {
      "image/png": "[encoded data removed]",
      "text/plain": [
       "<Figure size 432x288 with 1 Axes>"
      ]
     },
     "metadata": {
      "needs_background": "light"
     },
     "output_type": "display_data"
    },
    {
     "data": {
      "image/png": "[encoded data removed]",
      "text/plain": [
       "<Figure size 432x288 with 1 Axes>"
      ]
     },
     "metadata": {
      "needs_background": "light"
     },
     "output_type": "display_data"
    },
    {
     "data": {
      "image/png": "[encoded data removed]",
      "text/plain": [
       "<Figure size 432x288 with 1 Axes>"
      ]
     },
     "metadata": {
      "needs_background": "light"
     },
     "output_type": "display_data"
    }
   ],
   "source": [
    "# 상품군 요일별 예상취급액 그래프\n",
    "ratio25 = int(len(평가데이터) * 0.25)\n",
    "for item in 평가데이터1.상품군.unique():\n",
    "    plt.figure()\n",
    "    temp = 평가데이터1[평가데이터1.상품군 == item].sort_values(by='예상취급액', ascending=False).요일[:ratio25].value_counts()\n",
    "    temp.rename({0:'월',1:'화',2:'수',3:'목',4:'금',5:'토',6:'일'},axis=0,inplace=True)\n",
    "    temp.plot(kind='bar')\n",
    "    plt.xticks(rotation=0)\n",
    "    plt.xlabel(item)\n",
    "    #plt.savefig('{}요일.png'.format(item))"
   ]
  }
 ],
 "metadata": {
  "kernelspec": {
   "display_name": "Python 3",
   "language": "python",
   "name": "python3"
  },
  "language_info": {
   "codemirror_mode": {
    "name": "ipython",
    "version": 3
   },
   "file_extension": ".py",
   "mimetype": "text/x-python",
   "name": "python",
   "nbconvert_exporter": "python",
   "pygments_lexer": "ipython3",
   "version": "3.7.6"
  }
 },
 "nbformat": 4,
 "nbformat_minor": 4
}
