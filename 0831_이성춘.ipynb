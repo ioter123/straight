{
 "cells": [
  {
   "cell_type": "code",
   "execution_count": 510,
   "metadata": {},
   "outputs": [],
   "source": [
    "import pandas as pd\n",
    "\n",
    "실적데이터 = pd.read_excel('빅콘홈쇼핑.xlsx', header=1)\n",
    "#시청률데이터 = pd.read_excel('시청률데이터.xlsx',header=1)\n",
    "평가데이터 = pd.read_excel('평가데이터.xlsx',header=1)"
   ]
  },
  {
   "cell_type": "code",
   "execution_count": 584,
   "metadata": {},
   "outputs": [],
   "source": [
    "#pd.pivot_table(실적데이터,index='방송날짜',values='주문량',aggfunc='sum')"
   ]
  },
  {
   "cell_type": "code",
   "execution_count": 512,
   "metadata": {
    "scrolled": true
   },
   "outputs": [
    {
     "name": "stderr",
     "output_type": "stream",
     "text": [
      "C:\\Users\\daum1\\anaconda3\\lib\\site-packages\\pandas\\core\\generic.py:6245: SettingWithCopyWarning: \n",
      "A value is trying to be set on a copy of a slice from a DataFrame\n",
      "\n",
      "See the caveats in the documentation: https://pandas.pydata.org/pandas-docs/stable/user_guide/indexing.html#returning-a-view-versus-a-copy\n",
      "  self._update_inplace(new_data)\n"
     ]
    }
   ],
   "source": [
    "# 노출(분)컬럼 이름 변경\n",
    "실적데이터.rename(columns={'노출(분)':'노출'},inplace=True)\n",
    "\n",
    "# 취급액 NaN값 0으로 채우기\n",
    "실적데이터.취급액.fillna(0,inplace=True)\n",
    "\n",
    "#2019년 데이터만 \n",
    "실적데이터=실적데이터[실적데이터.방송일시<'2020-01-01']\n",
    "\n",
    "#노출분 nan값은 위에 시간이랑 일치시키기\n",
    "실적데이터.노출.fillna(method='pad',inplace=True)"
   ]
  },
  {
   "cell_type": "code",
   "execution_count": 515,
   "metadata": {},
   "outputs": [
    {
     "name": "stderr",
     "output_type": "stream",
     "text": [
      "<ipython-input-515-b008002eb240>:2: SettingWithCopyWarning: \n",
      "A value is trying to be set on a copy of a slice from a DataFrame.\n",
      "Try using .loc[row_indexer,col_indexer] = value instead\n",
      "\n",
      "See the caveats in the documentation: https://pandas.pydata.org/pandas-docs/stable/user_guide/indexing.html#returning-a-view-versus-a-copy\n",
      "  실적데이터['월']=실적데이터.방송일시.dt.month\n",
      "<ipython-input-515-b008002eb240>:3: SettingWithCopyWarning: \n",
      "A value is trying to be set on a copy of a slice from a DataFrame.\n",
      "Try using .loc[row_indexer,col_indexer] = value instead\n",
      "\n",
      "See the caveats in the documentation: https://pandas.pydata.org/pandas-docs/stable/user_guide/indexing.html#returning-a-view-versus-a-copy\n",
      "  실적데이터['일']=실적데이터.방송일시.dt.day\n",
      "<ipython-input-515-b008002eb240>:4: SettingWithCopyWarning: \n",
      "A value is trying to be set on a copy of a slice from a DataFrame.\n",
      "Try using .loc[row_indexer,col_indexer] = value instead\n",
      "\n",
      "See the caveats in the documentation: https://pandas.pydata.org/pandas-docs/stable/user_guide/indexing.html#returning-a-view-versus-a-copy\n",
      "  실적데이터['요일']=실적데이터.방송일시.dt.weekday\n",
      "<ipython-input-515-b008002eb240>:5: SettingWithCopyWarning: \n",
      "A value is trying to be set on a copy of a slice from a DataFrame.\n",
      "Try using .loc[row_indexer,col_indexer] = value instead\n",
      "\n",
      "See the caveats in the documentation: https://pandas.pydata.org/pandas-docs/stable/user_guide/indexing.html#returning-a-view-versus-a-copy\n",
      "  실적데이터['시간']=실적데이터.방송일시.dt.time\n",
      "<ipython-input-515-b008002eb240>:6: SettingWithCopyWarning: \n",
      "A value is trying to be set on a copy of a slice from a DataFrame.\n",
      "Try using .loc[row_indexer,col_indexer] = value instead\n",
      "\n",
      "See the caveats in the documentation: https://pandas.pydata.org/pandas-docs/stable/user_guide/indexing.html#returning-a-view-versus-a-copy\n",
      "  실적데이터['분']=실적데이터.방송일시.dt.minute\n",
      "<ipython-input-515-b008002eb240>:7: SettingWithCopyWarning: \n",
      "A value is trying to be set on a copy of a slice from a DataFrame.\n",
      "Try using .loc[row_indexer,col_indexer] = value instead\n",
      "\n",
      "See the caveats in the documentation: https://pandas.pydata.org/pandas-docs/stable/user_guide/indexing.html#returning-a-view-versus-a-copy\n",
      "  실적데이터['주']=실적데이터.방송일시.dt.week\n",
      "<ipython-input-515-b008002eb240>:8: SettingWithCopyWarning: \n",
      "A value is trying to be set on a copy of a slice from a DataFrame.\n",
      "Try using .loc[row_indexer,col_indexer] = value instead\n",
      "\n",
      "See the caveats in the documentation: https://pandas.pydata.org/pandas-docs/stable/user_guide/indexing.html#returning-a-view-versus-a-copy\n",
      "  실적데이터['시']  = 실적데이터['방송일시'].dt.hour\n"
     ]
    }
   ],
   "source": [
    "#주문량 변수 생성\n",
    "실적데이터['주문량'] = (실적데이터.취급액/실적데이터.판매단가).fillna(0)\n",
    "\n",
    "#방송일시를 사용해서 월,일,요일,시간 생성\n",
    "실적데이터['월']=실적데이터.방송일시.dt.month\n",
    "실적데이터['일']=실적데이터.방송일시.dt.day\n",
    "실적데이터['요일']=실적데이터.방송일시.dt.weekday\n",
    "실적데이터['시간']=실적데이터.방송일시.dt.time\n",
    "실적데이터['분']=실적데이터.방송일시.dt.minute\n",
    "실적데이터['주']=실적데이터.방송일시.dt.week\n",
    "실적데이터['시']  = 실적데이터['방송일시'].dt.hour"
   ]
  },
  {
   "cell_type": "code",
   "execution_count": 517,
   "metadata": {},
   "outputs": [
    {
     "name": "stderr",
     "output_type": "stream",
     "text": [
      "<ipython-input-517-42d4aa3c7616>:2: SettingWithCopyWarning: \n",
      "A value is trying to be set on a copy of a slice from a DataFrame.\n",
      "Try using .loc[row_indexer,col_indexer] = value instead\n",
      "\n",
      "See the caveats in the documentation: https://pandas.pydata.org/pandas-docs/stable/user_guide/indexing.html#returning-a-view-versus-a-copy\n",
      "  실적데이터['방송날짜'] = 실적데이터.방송일시.apply(lambda x : str(x)).apply(lambda x : x.split(' ')[0])\n",
      "<ipython-input-517-42d4aa3c7616>:4: SettingWithCopyWarning: \n",
      "A value is trying to be set on a copy of a slice from a DataFrame.\n",
      "Try using .loc[row_indexer,col_indexer] = value instead\n",
      "\n",
      "See the caveats in the documentation: https://pandas.pydata.org/pandas-docs/stable/user_guide/indexing.html#returning-a-view-versus-a-copy\n",
      "  실적데이터['방송시간'] = 실적데이터.방송일시.apply(lambda x : str(x)).apply(lambda x : x.split(' ')[1][:-3])\n"
     ]
    }
   ],
   "source": [
    "#하루 시간단위로 바꾼후 방송 시작시간\n",
    "실적데이터['시간'] = 실적데이터.시간.apply(lambda x : str(x)).apply(lambda x : int(x.split(':')[0])*60 + int(x.split(':')[1]))\n",
    "\n",
    "#방송날짜 생성\n",
    "실적데이터['방송날짜'] = 실적데이터.방송일시.apply(lambda x : str(x)).apply(lambda x : x.split(' ')[0])\n",
    "#방송 시간 생성\n",
    "실적데이터['방송시간'] = 실적데이터.방송일시.apply(lambda x : str(x)).apply(lambda x : x.split(' ')[1][:-3])"
   ]
  },
  {
   "cell_type": "code",
   "execution_count": 352,
   "metadata": {},
   "outputs": [],
   "source": [
    "실적데이터.drop(['방송최고시청률'],axis=1,inplace=True)"
   ]
  },
  {
   "cell_type": "code",
   "execution_count": 523,
   "metadata": {},
   "outputs": [],
   "source": [
    "# ---------------------------------------------- 파생변수 ------------------------------------------------------------\n",
    "# 수목금토 / 일월화 칼럼 추가\n",
    "#실적데이터['수목금토'] = 실적데이터.요일.map(lambda X: X in [3,4,5,6]).map(lambda X: 1 if X else 0)\n",
    "\n",
    "# 7,8,9월의 다른 추세 확인 후 칼럼 생성\n",
    "#실적데이터['월789'] = 실적데이터.월.map(lambda X: X in [7, 8, 9]).map(lambda X: 1 if X else 0)\n",
    "#실적데이터['하반기'] = 실적데이터.월.map(lambda X: X in [7,8,9,10,11,12]).map(lambda X: 1 if X else 0)\n",
    "#실적데이터['가을'] = 실적데이터.월.map(lambda X: X in [9,10,11]).map(lambda X: 1 if X else 0)\n",
    "#실적데이터['겨울'] = 실적데이터.월.map(lambda X: X in [12,1,2]).map(lambda X: 1 if X else 0)\n",
    "\n",
    "# 일 : 월초,말이랑 중간 비교 / 의미없음\n",
    "#실적데이터['월말초'] = 실적데이터.일.map(lambda X: X in [1,2,3,4,5,6,27,28,29,30,31]).map(lambda X: 1 if X else 0)\n",
    "\n",
    "# 판매단가 분포에 따른 분류\n",
    "#실적데이터['저가'] = 실적데이터.판매단가.map(lambda X: 1 if X <=30000 else 0)\n",
    "#실적데이터['중가'] = 실적데이터.판매단가.map(lambda X: 1 if 30000< X <= 400000  else 0)\n",
    "#실적데이터['고가'] = 실적데이터.판매단가.map(lambda X: 1 if X >400000  else 0)\n",
    "\n",
    "# 노출 시간 \n",
    "#실적데이터['노출20미만'] = 실적데이터.노출.map(lambda X: 1 if X < 20  else 0)\n",
    "#실적데이터['노출2030'] = 실적데이터.노출.map(lambda X: 1 if 20 <= X < 30  else 0)\n",
    "#실적데이터['노출30이상'] = 실적데이터.노출.map(lambda X: 1 if X >= 30  else 0)\n",
    "\n",
    "# 32주 기준으로 다른 추세 확인\n",
    "#실적데이터['주32후'] = 실적데이터.주.map(lambda X: 1 if X >= 32  else 0)\n",
    "\n",
    "# 시간별 상품코드 배치 \n",
    "#실적데이터['시간1015사이20이후'] = 실적데이터.시.map(lambda X: 1 if X >= 20 or 10 < X < 15  else 0)\n",
    "\n",
    "#실적데이터['시간6-9'] = 실적데이터.노출.map(lambda X: 1 if 6 < X < 21  else 0)\n",
    "\n",
    "#실적데이터['168시간기준']=실적데이터.방송일시.dt.weekday*24+실적데이터.방송일시.dt.hour"
   ]
  },
  {
   "cell_type": "code",
   "execution_count": 335,
   "metadata": {},
   "outputs": [],
   "source": [
    "시청률데이터.set_index('시간대', inplace=True)\n",
    "#시청률데이터 불필요 평균값 제거\n",
    "시청률데이터.drop('월화수목금토일02:00-01:59',inplace=True)\n",
    "시청률데이터.drop('2019-01-01 to 2019-12-31',axis=1,inplace=True)\n"
   ]
  },
  {
   "cell_type": "code",
   "execution_count": 497,
   "metadata": {},
   "outputs": [
    {
     "data": {
      "text/plain": [
       "'\\n#분당시청률평균 구하기\\nimport datetime\\n\\n분당평균시청률=[]\\nfor i in range(len(실적데이터)):\\n    시작=실적데이터.방송시간.iloc[i]\\n    종료=str(pd.to_datetime(실적데이터.방송시간.iloc[i])+datetime.timedelta(minutes=round(float(실적데이터.노출분.iloc[i]),0)-1)).split(\" \")[1][:-3]\\n    분당평균시청률.append((시청률데이터[실적데이터.방송날짜.iloc[i]].loc[시작:종료].mean()))\\n    \\n분당평균시청률\\n'"
      ]
     },
     "execution_count": 497,
     "metadata": {},
     "output_type": "execute_result"
    }
   ],
   "source": [
    "'''\n",
    "#분당시청률평균 구하기\n",
    "import datetime\n",
    "\n",
    "분당평균시청률=[]\n",
    "for i in range(len(실적데이터)):\n",
    "    시작=실적데이터.방송시간.iloc[i]\n",
    "    종료=str(pd.to_datetime(실적데이터.방송시간.iloc[i])+datetime.timedelta(minutes=round(float(실적데이터.노출분.iloc[i]),0)-1)).split(\" \")[1][:-3]\n",
    "    분당평균시청률.append((시청률데이터[실적데이터.방송날짜.iloc[i]].loc[시작:종료].mean()))\n",
    "    \n",
    "분당평균시청률\n",
    "'''"
   ]
  },
  {
   "cell_type": "code",
   "execution_count": 1,
   "metadata": {
    "scrolled": true
   },
   "outputs": [
    {
     "ename": "NameError",
     "evalue": "name '실적데이터' is not defined",
     "output_type": "error",
     "traceback": [
      "\u001b[1;31m---------------------------------------------------------------------------\u001b[0m",
      "\u001b[1;31mNameError\u001b[0m                                 Traceback (most recent call last)",
      "\u001b[1;32m<ipython-input-1-46b4777e8773>\u001b[0m in \u001b[0;36m<module>\u001b[1;34m\u001b[0m\n\u001b[0;32m      3\u001b[0m \u001b[1;33m\u001b[0m\u001b[0m\n\u001b[0;32m      4\u001b[0m \u001b[0m방송최고시청률\u001b[0m\u001b[1;33m=\u001b[0m\u001b[1;33m[\u001b[0m\u001b[1;33m]\u001b[0m\u001b[1;33m\u001b[0m\u001b[1;33m\u001b[0m\u001b[0m\n\u001b[1;32m----> 5\u001b[1;33m \u001b[1;32mfor\u001b[0m \u001b[0mi\u001b[0m \u001b[1;32min\u001b[0m \u001b[0mrange\u001b[0m\u001b[1;33m(\u001b[0m\u001b[0mlen\u001b[0m\u001b[1;33m(\u001b[0m\u001b[0m실적데이터\u001b[0m\u001b[1;33m)\u001b[0m\u001b[1;33m)\u001b[0m\u001b[1;33m:\u001b[0m\u001b[1;33m\u001b[0m\u001b[1;33m\u001b[0m\u001b[0m\n\u001b[0m\u001b[0;32m      6\u001b[0m     \u001b[0m시작\u001b[0m\u001b[1;33m=\u001b[0m\u001b[0m실적데이터\u001b[0m\u001b[1;33m.\u001b[0m\u001b[0m방송시간\u001b[0m\u001b[1;33m.\u001b[0m\u001b[0miloc\u001b[0m\u001b[1;33m[\u001b[0m\u001b[0mi\u001b[0m\u001b[1;33m]\u001b[0m\u001b[1;33m\u001b[0m\u001b[1;33m\u001b[0m\u001b[0m\n\u001b[0;32m      7\u001b[0m     \u001b[0m종료\u001b[0m\u001b[1;33m=\u001b[0m\u001b[0mstr\u001b[0m\u001b[1;33m(\u001b[0m\u001b[0mpd\u001b[0m\u001b[1;33m.\u001b[0m\u001b[0mto_datetime\u001b[0m\u001b[1;33m(\u001b[0m\u001b[0m실적데이터\u001b[0m\u001b[1;33m.\u001b[0m\u001b[0m방송시간\u001b[0m\u001b[1;33m.\u001b[0m\u001b[0miloc\u001b[0m\u001b[1;33m[\u001b[0m\u001b[0mi\u001b[0m\u001b[1;33m]\u001b[0m\u001b[1;33m)\u001b[0m\u001b[1;33m+\u001b[0m\u001b[0mdatetime\u001b[0m\u001b[1;33m.\u001b[0m\u001b[0mtimedelta\u001b[0m\u001b[1;33m(\u001b[0m\u001b[0mminutes\u001b[0m\u001b[1;33m=\u001b[0m\u001b[0mround\u001b[0m\u001b[1;33m(\u001b[0m\u001b[0mfloat\u001b[0m\u001b[1;33m(\u001b[0m\u001b[0m실적데이터\u001b[0m\u001b[1;33m.\u001b[0m\u001b[0m노출\u001b[0m\u001b[1;33m.\u001b[0m\u001b[0miloc\u001b[0m\u001b[1;33m[\u001b[0m\u001b[0mi\u001b[0m\u001b[1;33m]\u001b[0m\u001b[1;33m)\u001b[0m\u001b[1;33m,\u001b[0m\u001b[1;36m0\u001b[0m\u001b[1;33m)\u001b[0m\u001b[1;33m-\u001b[0m\u001b[1;36m1\u001b[0m\u001b[1;33m)\u001b[0m\u001b[1;33m)\u001b[0m\u001b[1;33m.\u001b[0m\u001b[0msplit\u001b[0m\u001b[1;33m(\u001b[0m\u001b[1;34m\" \"\u001b[0m\u001b[1;33m)\u001b[0m\u001b[1;33m[\u001b[0m\u001b[1;36m1\u001b[0m\u001b[1;33m]\u001b[0m\u001b[1;33m[\u001b[0m\u001b[1;33m:\u001b[0m\u001b[1;33m-\u001b[0m\u001b[1;36m3\u001b[0m\u001b[1;33m]\u001b[0m\u001b[1;33m\u001b[0m\u001b[1;33m\u001b[0m\u001b[0m\n",
      "\u001b[1;31mNameError\u001b[0m: name '실적데이터' is not defined"
     ]
    }
   ],
   "source": [
    "#방송최고시청률 구하기\n",
    "import datetime\n",
    "\n",
    "방송최고시청률=[]\n",
    "for i in range(len(실적데이터)):\n",
    "    시작=실적데이터.방송시간.iloc[i]\n",
    "    종료=str(pd.to_datetime(실적데이터.방송시간.iloc[i])+datetime.timedelta(minutes=round(float(실적데이터.노출.iloc[i]),0)-1)).split(\" \")[1][:-3]\n",
    "    방송최고시청률.append((시청률데이터[실적데이터.방송날짜.iloc[i]].loc[시작:종료].max()))\n",
    "    \n",
    "방송최고시청률"
   ]
  },
  {
   "cell_type": "code",
   "execution_count": 478,
   "metadata": {},
   "outputs": [
    {
     "data": {
      "text/plain": [
       "38300"
      ]
     },
     "execution_count": 478,
     "metadata": {},
     "output_type": "execute_result"
    }
   ],
   "source": [
    "len(방송최고시청률)"
   ]
  },
  {
   "cell_type": "code",
   "execution_count": 519,
   "metadata": {},
   "outputs": [
    {
     "name": "stderr",
     "output_type": "stream",
     "text": [
      "<ipython-input-519-2f7bf0df6a00>:3: SettingWithCopyWarning: \n",
      "A value is trying to be set on a copy of a slice from a DataFrame.\n",
      "Try using .loc[row_indexer,col_indexer] = value instead\n",
      "\n",
      "See the caveats in the documentation: https://pandas.pydata.org/pandas-docs/stable/user_guide/indexing.html#returning-a-view-versus-a-copy\n",
      "  실적데이터['방송최고시청률']=방송최고시청률\n"
     ]
    }
   ],
   "source": [
    "#실적데이터['분당평균시청률']=분당평균시청률\n",
    "\n",
    "실적데이터['방송최고시청률']=방송최고시청률"
   ]
  },
  {
   "cell_type": "code",
   "execution_count": 77,
   "metadata": {
    "scrolled": true
   },
   "outputs": [],
   "source": [
    "실적데이터최종 = 실적데이터.drop(['마더코드','방송일시','상품코드','취급액','시간','상품명'],axis=1,inplace=True)"
   ]
  },
  {
   "cell_type": "code",
   "execution_count": 81,
   "metadata": {},
   "outputs": [],
   "source": [
    "실적데이터.drop(['방송날짜','방송시간'],axis=1,inplace=True)"
   ]
  },
  {
   "cell_type": "code",
   "execution_count": 219,
   "metadata": {},
   "outputs": [
    {
     "name": "stderr",
     "output_type": "stream",
     "text": [
      "<ipython-input-219-c9f457c5dd1f>:23: SettingWithCopyWarning: \n",
      "A value is trying to be set on a copy of a slice from a DataFrame.\n",
      "Try using .loc[row_indexer,col_indexer] = value instead\n",
      "\n",
      "See the caveats in the documentation: https://pandas.pydata.org/pandas-docs/stable/user_guide/indexing.html#returning-a-view-versus-a-copy\n",
      "  실적데이터['시간대'] = 시간대\n"
     ]
    }
   ],
   "source": [
    "# 3시간 단위로 시간대 세분화\n",
    "시간대 = []\n",
    "for i in range(len(실적데이터['방송시간'])):\n",
    "    time = int(실적데이터['방송시간'][i][:2])\n",
    "    \n",
    "    if time>=0 and time<3:\n",
    "        시간대.append('새벽1')\n",
    "    if time>=3 and time<6:\n",
    "        시간대.append('새벽2')    \n",
    "    if time>=6 and time<9:\n",
    "        시간대.append('오전1')\n",
    "    if time>=9 and time<12:\n",
    "        시간대.append('오전2')\n",
    "    if time>=12 and time<15:\n",
    "        시간대.append('오후1')\n",
    "    if time>=15 and time<18:\n",
    "        시간대.append('오후2')\n",
    "    if time>=18 and time<21:\n",
    "        시간대.append('저녁1')\n",
    "    if time>=21 and time<24:\n",
    "        시간대.append('저녁2')\n",
    "        \n",
    "실적데이터['시간대'] = 시간대"
   ]
  },
  {
   "cell_type": "code",
   "execution_count": 503,
   "metadata": {},
   "outputs": [],
   "source": [
    "##  판매량이 9일부터 오른다\n",
    "\n",
    "#월9=[]\n",
    "#for i in 실적데이터.월:\n",
    " #   if i < 9:\n",
    "  #      월9.append(0)\n",
    "   # elif i >=9:\n",
    "    #    월9.append(1)\n",
    "    "
   ]
  },
  {
   "cell_type": "code",
   "execution_count": 506,
   "metadata": {},
   "outputs": [],
   "source": [
    "## 9월 이상 컬럼 추가\n",
    "\n",
    "#실적데이터['월9'] = 월9"
   ]
  },
  {
   "cell_type": "markdown",
   "metadata": {},
   "source": [
    "## 브랜드 점수화"
   ]
  },
  {
   "cell_type": "code",
   "execution_count": 521,
   "metadata": {},
   "outputs": [
    {
     "name": "stderr",
     "output_type": "stream",
     "text": [
      "<ipython-input-521-28acd284b17b>:29: SettingWithCopyWarning: \n",
      "A value is trying to be set on a copy of a slice from a DataFrame.\n",
      "Try using .loc[row_indexer,col_indexer] = value instead\n",
      "\n",
      "See the caveats in the documentation: https://pandas.pydata.org/pandas-docs/stable/user_guide/indexing.html#returning-a-view-versus-a-copy\n",
      "  실적데이터['브랜드'] = pd.Series(list4)\n"
     ]
    }
   ],
   "source": [
    "from sklearn.preprocessing import MinMaxScaler\n",
    "# 브랜드 컬럼\n",
    "\n",
    "# 상품명에서 불필요한 단어 제거\n",
    "list1 = []\n",
    "for item in 실적데이터[['상품명']].values:\n",
    "    for i in ['(직매입)', '일시불', '무이자', '도냄', 'a4', '뉴', '(일)', '(무)', '특집', '(쿠)',\n",
    "              '초특가''(세일20%)', '1세트', '2세트', '(더블+더블)', '(더블+싱글)', '(더블사이즈)', \n",
    "              '(싱글사이즈)', '(점보특대형)', '(점보형)', '(중형)', '(퀸+퀸)', '(퀸+싱글)', '(싱글+싱글)', \n",
    "              '(킹사이즈)', '(퀸사이즈)', '[완벽더블]', '파격가', '초특가', '무)', '(렌탈)', '국내산']:\n",
    "        item[0] = item[0].replace(i, \"\")\n",
    "    list1.append(item[0].strip())\n",
    "\n",
    "# 숫자, 영어, 한글을 제외한 문자 제거\n",
    "list3 = []\n",
    "for i in list1:\n",
    "    result_string = \"\"\n",
    "    for c in i:\n",
    "        if c == \" \":\n",
    "            result_string += c\n",
    "        elif c.isalnum():\n",
    "            result_string += c\n",
    "    list3.append(result_string.strip())\n",
    "\n",
    "# 주로 브랜드명이 첫 어절에 온다고 판단. 첫 어절로 브랜드 컬럼 생성\n",
    "list4 = []\n",
    "for item in list3:\n",
    "    list4.append(item.split(\" \")[0])\n",
    "실적데이터['브랜드'] = pd.Series(list4)\n",
    "\n",
    "# 브랜드별 점수 매기기\n",
    "# 브랜드별 평균 주문량 계산\n",
    "df_temp = 실적데이터.pivot_table(\n",
    "    index=['브랜드'], values='주문량', aggfunc='count').sort_values(by='주문량', ascending=False)\n",
    "# minmaxscaler로 0~1 사이값으로 scale 조정\n",
    "df_temp1 = pd.DataFrame(\n",
    "    MinMaxScaler().fit_transform(df_temp), index=df_temp.index)\n",
    "\n",
    "# 브랜드별 평균 주문량을 scale 조절한 값을 브랜드 점수로 산정. 브랜드점수 컬럼 생성\n",
    "df_temp1 = df_temp1.reset_index()\n",
    "실적데이터 = pd.merge(실적데이터, df_temp1, on='브랜드')\n",
    "실적데이터.rename({0: '브랜드점수'}, axis=1, inplace=True)\n"
   ]
  },
  {
   "cell_type": "markdown",
   "metadata": {},
   "source": [
    "## 주가데이터"
   ]
  },
  {
   "cell_type": "code",
   "execution_count": 443,
   "metadata": {},
   "outputs": [],
   "source": [
    "# 주가데이터 불러오기\n",
    "주가데이터 = pd.read_csv('주가데이터.csv')\n",
    "주가데이터 = 주가데이터.sort_values(by = '날짜')"
   ]
  },
  {
   "cell_type": "code",
   "execution_count": 461,
   "metadata": {
    "scrolled": false
   },
   "outputs": [
    {
     "data": {
      "text/html": [
       "<div>\n",
       "<style scoped>\n",
       "    .dataframe tbody tr th:only-of-type {\n",
       "        vertical-align: middle;\n",
       "    }\n",
       "\n",
       "    .dataframe tbody tr th {\n",
       "        vertical-align: top;\n",
       "    }\n",
       "\n",
       "    .dataframe thead th {\n",
       "        text-align: right;\n",
       "    }\n",
       "</style>\n",
       "<table border=\"1\" class=\"dataframe\">\n",
       "  <thead>\n",
       "    <tr style=\"text-align: right;\">\n",
       "      <th></th>\n",
       "      <th>0</th>\n",
       "    </tr>\n",
       "  </thead>\n",
       "  <tbody>\n",
       "    <tr>\n",
       "      <th>0</th>\n",
       "      <td>2019년 01월 01일</td>\n",
       "    </tr>\n",
       "    <tr>\n",
       "      <th>1</th>\n",
       "      <td>2019년 01월 02일</td>\n",
       "    </tr>\n",
       "    <tr>\n",
       "      <th>2</th>\n",
       "      <td>2019년 01월 03일</td>\n",
       "    </tr>\n",
       "    <tr>\n",
       "      <th>3</th>\n",
       "      <td>2019년 01월 04일</td>\n",
       "    </tr>\n",
       "    <tr>\n",
       "      <th>4</th>\n",
       "      <td>2019년 01월 05일</td>\n",
       "    </tr>\n",
       "    <tr>\n",
       "      <th>...</th>\n",
       "      <td>...</td>\n",
       "    </tr>\n",
       "    <tr>\n",
       "      <th>360</th>\n",
       "      <td>2019년 12월 27일</td>\n",
       "    </tr>\n",
       "    <tr>\n",
       "      <th>361</th>\n",
       "      <td>2019년 12월 28일</td>\n",
       "    </tr>\n",
       "    <tr>\n",
       "      <th>362</th>\n",
       "      <td>2019년 12월 29일</td>\n",
       "    </tr>\n",
       "    <tr>\n",
       "      <th>363</th>\n",
       "      <td>2019년 12월 30일</td>\n",
       "    </tr>\n",
       "    <tr>\n",
       "      <th>364</th>\n",
       "      <td>2019년 12월 31일</td>\n",
       "    </tr>\n",
       "  </tbody>\n",
       "</table>\n",
       "<p>365 rows × 1 columns</p>\n",
       "</div>"
      ],
      "text/plain": [
       "                 0\n",
       "0    2019년 01월 01일\n",
       "1    2019년 01월 02일\n",
       "2    2019년 01월 03일\n",
       "3    2019년 01월 04일\n",
       "4    2019년 01월 05일\n",
       "..             ...\n",
       "360  2019년 12월 27일\n",
       "361  2019년 12월 28일\n",
       "362  2019년 12월 29일\n",
       "363  2019년 12월 30일\n",
       "364  2019년 12월 31일\n",
       "\n",
       "[365 rows x 1 columns]"
      ]
     },
     "execution_count": 461,
     "metadata": {},
     "output_type": "execute_result"
    }
   ],
   "source": [
    "# 2019년 00월 00일 리스트 생성\n",
    "a = []\n",
    "for i in range(13):\n",
    "    if i in [1, 3, 5, 7, 8, 10, 12]:\n",
    "        for j in range(1, 32):\n",
    "            if i < 10:\n",
    "                s1 = '0'+ str(i)\n",
    "            else:\n",
    "                s1 = str(i)\n",
    "            if j < 10:\n",
    "                s2 = '0'+ str(j)\n",
    "            else:\n",
    "                s2 = str(j)\n",
    "            a.append(\"2019년 {}월 {}일\".format(s1, s2))\n",
    "    elif i in [4, 6, 9, 11]:\n",
    "        for j in range(1, 31):\n",
    "            if i < 10:\n",
    "                s1 = '0'+ str(i) \n",
    "            else:\n",
    "                s1 = str(i)\n",
    "            if j < 10:\n",
    "                s2 = '0'+ str(j)\n",
    "            else:\n",
    "                s2 = str(j)\n",
    "            a.append(\"2019년 {}월 {}일\".format(s1, s2))\n",
    "    elif i == 2:\n",
    "        for j in range(1, 29):\n",
    "            if i < 10:\n",
    "                s1 = '0'+ str(i) \n",
    "            else:\n",
    "                s1 = str(i)\n",
    "            if j < 10:\n",
    "                s2 = '0'+ str(j)\n",
    "            else:\n",
    "                s2 = str(j)\n",
    "            a.append(\"2019년 {}월 {}일\".format(s1, s2))\n",
    "        \n",
    "a = pd.DataFrame(a)\n",
    "a"
   ]
  },
  {
   "cell_type": "code",
   "execution_count": 462,
   "metadata": {},
   "outputs": [],
   "source": [
    "a.columns = ['날짜']"
   ]
  },
  {
   "cell_type": "code",
   "execution_count": 464,
   "metadata": {},
   "outputs": [],
   "source": [
    "# 주가데이터의 빈 날짜를 a 리스트와 merge를 통해 채움\n",
    "# 날짜 위에서 아래로 1월 1일 ~ 12월 31일\n",
    "주가데이터2 = pd.merge(주가데이터, a, on='날짜', how='outer')\n",
    "주가데이터2 = 주가데이터2.sort_values(by='날짜')\n",
    "\n",
    "# 주가데이터 빈 행은 위아래 행으로 채움\n",
    "주가데이터2 = 주가데이터2.fillna(method = 'ffill')\n",
    "주가데이터2 = 주가데이터2.fillna(method = 'bfill')\n",
    "\n",
    "# 거래량 K 지우고 1000해서 구함\n",
    "주가데이터2.거래량=주가데이터2.거래량.map(lambda x : x[:-1])\n",
    "주가데이터2.거래량=pd.to_numeric(주가데이터2.거래량)\n",
    "주가데이터2.거래량=주가데이터2.거래량*1000"
   ]
  },
  {
   "cell_type": "code",
   "execution_count": 466,
   "metadata": {},
   "outputs": [],
   "source": [
    "temp = pd.concat([실적데이터.pivot_table(index=['월','일'], values='주문량', aggfunc='mean').reset_index(), 주가데이터2.종가], axis=1)"
   ]
  },
  {
   "cell_type": "code",
   "execution_count": 469,
   "metadata": {},
   "outputs": [],
   "source": [
    "temp.종가 = pd.to_numeric(temp.종가.map(lambda X: X.replace(\",\",\"\")))"
   ]
  },
  {
   "cell_type": "code",
   "execution_count": 475,
   "metadata": {},
   "outputs": [
    {
     "data": {
      "text/html": [
       "<div>\n",
       "<style scoped>\n",
       "    .dataframe tbody tr th:only-of-type {\n",
       "        vertical-align: middle;\n",
       "    }\n",
       "\n",
       "    .dataframe tbody tr th {\n",
       "        vertical-align: top;\n",
       "    }\n",
       "\n",
       "    .dataframe thead th {\n",
       "        text-align: right;\n",
       "    }\n",
       "</style>\n",
       "<table border=\"1\" class=\"dataframe\">\n",
       "  <thead>\n",
       "    <tr style=\"text-align: right;\">\n",
       "      <th></th>\n",
       "      <th>월</th>\n",
       "      <th>일</th>\n",
       "      <th>주문량</th>\n",
       "      <th>종가</th>\n",
       "    </tr>\n",
       "  </thead>\n",
       "  <tbody>\n",
       "    <tr>\n",
       "      <th>0</th>\n",
       "      <td>1</td>\n",
       "      <td>1</td>\n",
       "      <td>626.326773</td>\n",
       "      <td>12600</td>\n",
       "    </tr>\n",
       "    <tr>\n",
       "      <th>1</th>\n",
       "      <td>1</td>\n",
       "      <td>2</td>\n",
       "      <td>269.710202</td>\n",
       "      <td>12600</td>\n",
       "    </tr>\n",
       "    <tr>\n",
       "      <th>2</th>\n",
       "      <td>1</td>\n",
       "      <td>3</td>\n",
       "      <td>286.822311</td>\n",
       "      <td>12600</td>\n",
       "    </tr>\n",
       "    <tr>\n",
       "      <th>3</th>\n",
       "      <td>1</td>\n",
       "      <td>4</td>\n",
       "      <td>368.699772</td>\n",
       "      <td>13150</td>\n",
       "    </tr>\n",
       "    <tr>\n",
       "      <th>4</th>\n",
       "      <td>1</td>\n",
       "      <td>5</td>\n",
       "      <td>332.683982</td>\n",
       "      <td>13150</td>\n",
       "    </tr>\n",
       "    <tr>\n",
       "      <th>...</th>\n",
       "      <td>...</td>\n",
       "      <td>...</td>\n",
       "      <td>...</td>\n",
       "      <td>...</td>\n",
       "    </tr>\n",
       "    <tr>\n",
       "      <th>360</th>\n",
       "      <td>12</td>\n",
       "      <td>27</td>\n",
       "      <td>469.482046</td>\n",
       "      <td>9130</td>\n",
       "    </tr>\n",
       "    <tr>\n",
       "      <th>361</th>\n",
       "      <td>12</td>\n",
       "      <td>28</td>\n",
       "      <td>406.433564</td>\n",
       "      <td>9150</td>\n",
       "    </tr>\n",
       "    <tr>\n",
       "      <th>362</th>\n",
       "      <td>12</td>\n",
       "      <td>29</td>\n",
       "      <td>451.316511</td>\n",
       "      <td>9380</td>\n",
       "    </tr>\n",
       "    <tr>\n",
       "      <th>363</th>\n",
       "      <td>12</td>\n",
       "      <td>30</td>\n",
       "      <td>546.499271</td>\n",
       "      <td>9380</td>\n",
       "    </tr>\n",
       "    <tr>\n",
       "      <th>364</th>\n",
       "      <td>12</td>\n",
       "      <td>31</td>\n",
       "      <td>274.844259</td>\n",
       "      <td>9450</td>\n",
       "    </tr>\n",
       "  </tbody>\n",
       "</table>\n",
       "<p>365 rows × 4 columns</p>\n",
       "</div>"
      ],
      "text/plain": [
       "      월   일         주문량     종가\n",
       "0     1   1  626.326773  12600\n",
       "1     1   2  269.710202  12600\n",
       "2     1   3  286.822311  12600\n",
       "3     1   4  368.699772  13150\n",
       "4     1   5  332.683982  13150\n",
       "..   ..  ..         ...    ...\n",
       "360  12  27  469.482046   9130\n",
       "361  12  28  406.433564   9150\n",
       "362  12  29  451.316511   9380\n",
       "363  12  30  546.499271   9380\n",
       "364  12  31  274.844259   9450\n",
       "\n",
       "[365 rows x 4 columns]"
      ]
     },
     "execution_count": 475,
     "metadata": {},
     "output_type": "execute_result"
    }
   ],
   "source": [
    "temp"
   ]
  },
  {
   "cell_type": "markdown",
   "metadata": {},
   "source": [
    "## 기온데이터 추가"
   ]
  },
  {
   "cell_type": "code",
   "execution_count": 527,
   "metadata": {},
   "outputs": [],
   "source": [
    "import pandas as pd\n",
    "기온 = pd.read_csv('기온1.csv', header = 0,sep=\",\", encoding = 'euc-kr')\n",
    "풍속 = pd.read_csv('풍속.csv', encoding = 'euc-kr')\n",
    "강수량 = pd.read_csv('강수량.csv', encoding = 'euc-kr')\n",
    "\n",
    "# 일별로 정렬\n",
    "기온.sort_values(by= '일시',inplace=True)\n",
    "풍속.sort_values(by= '일시',inplace=True)\n",
    "강수량.sort_values(by= '일시',inplace=True)\n",
    "\n",
    "# 인덱스 값 재정렬\n",
    "기온.index=list(range(365))\n",
    "풍속.index=list(range(365))\n",
    "강수량.index=list(range(365))\n"
   ]
  },
  {
   "cell_type": "code",
   "execution_count": 528,
   "metadata": {},
   "outputs": [],
   "source": [
    "#쓰기로한 데이터만 남기기\n",
    "기온.drop(['평균기온(℃)','최고기온(℃)','최저기온(℃)'],axis=1,inplace=True) # 평균최고, 평균 최저\n",
    "풍속.drop(['평균풍속(m/s)','최대순간풍속(m/s)'],axis=1,inplace=True) # 최대풍속(m/s)\n",
    "강수량.drop(['최다일강수량(mm)'],axis=1,inplace=True)\n",
    "\n",
    "#풍속 값 다시 맞추기(merge 시키기 위해)\n",
    "풍속.일시=pd.to_datetime(풍속.일시).map(lambda x : str(x).split(\" \")[0])\n",
    "#실적데이터 방송날짜 이름 변경(merge 시키기 위해))\n",
    "실적데이터.rename({'방송날짜':'일시'},axis='columns',inplace=True)\n",
    "\n",
    "실적데이터=pd.merge(실적데이터, 기온, on='일시')\n",
    "실적데이터=pd.merge(실적데이터, 강수량, on='일시')\n",
    "실적데이터=pd.merge(실적데이터, 풍속, on='일시')"
   ]
  },
  {
   "cell_type": "code",
   "execution_count": 529,
   "metadata": {},
   "outputs": [],
   "source": [
    "실적데이터.rename(columns={'평균최고기온(℃)':'평균최고기온'},inplace=True)\n",
    "실적데이터.rename(columns={'평균최저기온(℃)':'평균최저기온'},inplace=True)\n",
    "실적데이터.rename(columns={'평균일강수량(mm)':'평균일강수량'},inplace=True)\n",
    "실적데이터.rename(columns={'최대풍속(m/s)':'최대풍속'},inplace=True)"
   ]
  },
  {
   "cell_type": "code",
   "execution_count": 497,
   "metadata": {},
   "outputs": [],
   "source": [
    "실적수치데이터.방송최고시청률 = 실적수치데이터.방송최고시청률/100\n",
    "실적수치데이터.판매단가 = 실적수치데이터.판매단가*100000"
   ]
  },
  {
   "cell_type": "code",
   "execution_count": 515,
   "metadata": {},
   "outputs": [],
   "source": [
    "## 월9 더미처리\n",
    "\n",
    "\n"
   ]
  },
  {
   "cell_type": "markdown",
   "metadata": {},
   "source": [
    "## 실적데이터 학습모델 돌리기 위한 가공"
   ]
  },
  {
   "cell_type": "code",
   "execution_count": 580,
   "metadata": {},
   "outputs": [],
   "source": [
    "실적수치데이터 =  실적데이터.copy()\n",
    "\n",
    "# 요일 칼럼화\n",
    "# 요일_0 ~ 요일_6\n",
    "실적수치데이터 = pd.concat([실적수치데이터, pd.get_dummies(실적수치데이터.요일, prefix='요일')], axis=1)\n",
    "실적수치데이터.drop('요일', axis=1, inplace=True)\n",
    "\n",
    "# 월 칼럼화\n",
    "# 1 ~ 12 -> 월_1, 월_2, ~ ,월_12\n",
    "실적수치데이터 = pd.concat([실적수치데이터, pd.get_dummies(실적수치데이터.월, prefix='월')], axis=1)\n",
    "실적수치데이터.drop('월', axis=1, inplace=True)\n",
    "\n",
    "# 일 칼럼화\n",
    "# 1 ~ 31 -> 일_1, 일_2, ~, 일_31\n",
    "실적수치데이터 = pd.concat([실적수치데이터, pd.get_dummies(실적수치데이터.일, prefix='일')], axis=1)\n",
    "실적수치데이터.drop('일', axis=1, inplace=True)\n",
    "\n",
    "# 시 칼럼화\n",
    "# 1 ~ 23 -> 시_1, 시_2, ~, 시_23\n",
    "실적수치데이터 = pd.concat([실적수치데이터, pd.get_dummies(실적수치데이터.시, prefix='시')], axis=1)\n",
    "실적수치데이터.drop('시', axis=1, inplace=True)\n",
    "\n",
    "# 분 칼럼화\n",
    "# 1 ~ 60 -> 분_1, 분_2, ~, 분_60\n",
    "실적수치데이터 = pd.concat([실적수치데이터, pd.get_dummies(실적수치데이터.분, prefix='분')], axis=1)\n",
    "실적수치데이터.drop('분', axis=1, inplace=True)\n",
    "\n",
    "# 주 칼럼화\n",
    "# 1 ~ 52 -> 주_1, 주_2, ~, 주_52\n",
    "실적수치데이터 = pd.concat([실적수치데이터, pd.get_dummies(실적수치데이터.주, prefix='주')], axis=1)\n",
    "실적수치데이터.drop('주', axis=1, inplace=True)\n",
    "\n",
    "# 상품군 컬럼화\n",
    "# ['가구', '가전', '건강기능', '농수축', '무형', '생활용품', '속옷', '의류', '이미용', '잡화','주방', '침구']\n",
    "실적수치데이터 = pd.concat([실적수치데이터, pd.get_dummies(실적수치데이터.상품군)], axis=1)\n",
    "실적수치데이터.drop('상품군', axis=1, inplace=True)\n",
    "\n",
    "#시간대 컬럼화\n",
    "#실적수치데이터 = pd.concat([실적수치데이터, pd.get_dummies(실적수치데이터.시간대)], axis=1)\n",
    "#실적수치데이터.drop('시간대', axis=1, inplace=True)\n",
    "\n",
    "#\n",
    "#실적수치데이터 = pd.concat([실적수치데이터, pd.get_dummies(실적수치데이터['시간6-9'])], axis=1)\n",
    "#실적수치데이터.drop(['시간6-9'], axis=1, inplace=True)\n",
    "\n",
    "#168시간 컬럼화\n",
    "실적수치데이터 = pd.concat([실적수치데이터, pd.get_dummies(실적수치데이터['168시간기준'])], axis=1)\n",
    "실적수치데이터.drop('168시간기준', axis=1, inplace=True)\n"
   ]
  },
  {
   "cell_type": "code",
   "execution_count": 105,
   "metadata": {
    "collapsed": true
   },
   "outputs": [
    {
     "ename": "KeyError",
     "evalue": "'시간대'",
     "output_type": "error",
     "traceback": [
      "\u001b[1;31m---------------------------------------------------------------------------\u001b[0m",
      "\u001b[1;31mKeyError\u001b[0m                                  Traceback (most recent call last)",
      "\u001b[1;32m~\\anaconda3\\lib\\site-packages\\pandas\\core\\indexes\\base.py\u001b[0m in \u001b[0;36mget_loc\u001b[1;34m(self, key, method, tolerance)\u001b[0m\n\u001b[0;32m   2645\u001b[0m             \u001b[1;32mtry\u001b[0m\u001b[1;33m:\u001b[0m\u001b[1;33m\u001b[0m\u001b[1;33m\u001b[0m\u001b[0m\n\u001b[1;32m-> 2646\u001b[1;33m                 \u001b[1;32mreturn\u001b[0m \u001b[0mself\u001b[0m\u001b[1;33m.\u001b[0m\u001b[0m_engine\u001b[0m\u001b[1;33m.\u001b[0m\u001b[0mget_loc\u001b[0m\u001b[1;33m(\u001b[0m\u001b[0mkey\u001b[0m\u001b[1;33m)\u001b[0m\u001b[1;33m\u001b[0m\u001b[1;33m\u001b[0m\u001b[0m\n\u001b[0m\u001b[0;32m   2647\u001b[0m             \u001b[1;32mexcept\u001b[0m \u001b[0mKeyError\u001b[0m\u001b[1;33m:\u001b[0m\u001b[1;33m\u001b[0m\u001b[1;33m\u001b[0m\u001b[0m\n",
      "\u001b[1;32mpandas\\_libs\\index.pyx\u001b[0m in \u001b[0;36mpandas._libs.index.IndexEngine.get_loc\u001b[1;34m()\u001b[0m\n",
      "\u001b[1;32mpandas\\_libs\\index.pyx\u001b[0m in \u001b[0;36mpandas._libs.index.IndexEngine.get_loc\u001b[1;34m()\u001b[0m\n",
      "\u001b[1;32mpandas\\_libs\\hashtable_class_helper.pxi\u001b[0m in \u001b[0;36mpandas._libs.hashtable.PyObjectHashTable.get_item\u001b[1;34m()\u001b[0m\n",
      "\u001b[1;32mpandas\\_libs\\hashtable_class_helper.pxi\u001b[0m in \u001b[0;36mpandas._libs.hashtable.PyObjectHashTable.get_item\u001b[1;34m()\u001b[0m\n",
      "\u001b[1;31mKeyError\u001b[0m: '시간대'",
      "\nDuring handling of the above exception, another exception occurred:\n",
      "\u001b[1;31mKeyError\u001b[0m                                  Traceback (most recent call last)",
      "\u001b[1;32m<ipython-input-105-19303db522d5>\u001b[0m in \u001b[0;36m<module>\u001b[1;34m\u001b[0m\n\u001b[0;32m      2\u001b[0m \u001b[0m실적수치데이터\u001b[0m\u001b[1;33m[\u001b[0m\u001b[0mpd\u001b[0m\u001b[1;33m.\u001b[0m\u001b[0mget_dummies\u001b[0m\u001b[1;33m(\u001b[0m\u001b[0m실적수치데이터\u001b[0m\u001b[1;33m[\u001b[0m\u001b[1;34m'상품군'\u001b[0m\u001b[1;33m]\u001b[0m\u001b[1;33m)\u001b[0m\u001b[1;33m.\u001b[0m\u001b[0mcolumns\u001b[0m\u001b[1;33m]\u001b[0m \u001b[1;33m=\u001b[0m \u001b[0mpd\u001b[0m\u001b[1;33m.\u001b[0m\u001b[0mget_dummies\u001b[0m\u001b[1;33m(\u001b[0m\u001b[0m실적수치데이터\u001b[0m\u001b[1;33m[\u001b[0m\u001b[1;34m'상품군'\u001b[0m\u001b[1;33m]\u001b[0m\u001b[1;33m)\u001b[0m\u001b[1;33m\u001b[0m\u001b[1;33m\u001b[0m\u001b[0m\n\u001b[0;32m      3\u001b[0m \u001b[0m실적수치데이터\u001b[0m\u001b[1;33m[\u001b[0m\u001b[0mpd\u001b[0m\u001b[1;33m.\u001b[0m\u001b[0mget_dummies\u001b[0m\u001b[1;33m(\u001b[0m\u001b[0m실적수치데이터\u001b[0m\u001b[1;33m[\u001b[0m\u001b[1;34m'요일'\u001b[0m\u001b[1;33m]\u001b[0m\u001b[1;33m)\u001b[0m\u001b[1;33m.\u001b[0m\u001b[0mcolumns\u001b[0m\u001b[1;33m]\u001b[0m \u001b[1;33m=\u001b[0m \u001b[0mpd\u001b[0m\u001b[1;33m.\u001b[0m\u001b[0mget_dummies\u001b[0m\u001b[1;33m(\u001b[0m\u001b[0m실적수치데이터\u001b[0m\u001b[1;33m[\u001b[0m\u001b[1;34m'요일'\u001b[0m\u001b[1;33m]\u001b[0m\u001b[1;33m)\u001b[0m\u001b[1;33m\u001b[0m\u001b[1;33m\u001b[0m\u001b[0m\n\u001b[1;32m----> 4\u001b[1;33m \u001b[0m실적수치데이터\u001b[0m\u001b[1;33m[\u001b[0m\u001b[0mpd\u001b[0m\u001b[1;33m.\u001b[0m\u001b[0mget_dummies\u001b[0m\u001b[1;33m(\u001b[0m\u001b[0m실적수치데이터\u001b[0m\u001b[1;33m[\u001b[0m\u001b[1;34m'시간대'\u001b[0m\u001b[1;33m]\u001b[0m\u001b[1;33m)\u001b[0m\u001b[1;33m.\u001b[0m\u001b[0mcolumns\u001b[0m\u001b[1;33m]\u001b[0m \u001b[1;33m=\u001b[0m \u001b[0mpd\u001b[0m\u001b[1;33m.\u001b[0m\u001b[0mget_dummies\u001b[0m\u001b[1;33m(\u001b[0m\u001b[0m실적수치데이터\u001b[0m\u001b[1;33m[\u001b[0m\u001b[1;34m'시간대'\u001b[0m\u001b[1;33m]\u001b[0m\u001b[1;33m)\u001b[0m\u001b[1;33m\u001b[0m\u001b[1;33m\u001b[0m\u001b[0m\n\u001b[0m\u001b[0;32m      5\u001b[0m \u001b[1;31m#실적수치데이터[pd.get_dummies(실적수치데이터['월9']).columns] = pd.get_dummies(실적수치데이터['월9'])\u001b[0m\u001b[1;33m\u001b[0m\u001b[1;33m\u001b[0m\u001b[1;33m\u001b[0m\u001b[0m\n\u001b[0;32m      6\u001b[0m \u001b[1;33m\u001b[0m\u001b[0m\n",
      "\u001b[1;32m~\\anaconda3\\lib\\site-packages\\pandas\\core\\frame.py\u001b[0m in \u001b[0;36m__getitem__\u001b[1;34m(self, key)\u001b[0m\n\u001b[0;32m   2798\u001b[0m             \u001b[1;32mif\u001b[0m \u001b[0mself\u001b[0m\u001b[1;33m.\u001b[0m\u001b[0mcolumns\u001b[0m\u001b[1;33m.\u001b[0m\u001b[0mnlevels\u001b[0m \u001b[1;33m>\u001b[0m \u001b[1;36m1\u001b[0m\u001b[1;33m:\u001b[0m\u001b[1;33m\u001b[0m\u001b[1;33m\u001b[0m\u001b[0m\n\u001b[0;32m   2799\u001b[0m                 \u001b[1;32mreturn\u001b[0m \u001b[0mself\u001b[0m\u001b[1;33m.\u001b[0m\u001b[0m_getitem_multilevel\u001b[0m\u001b[1;33m(\u001b[0m\u001b[0mkey\u001b[0m\u001b[1;33m)\u001b[0m\u001b[1;33m\u001b[0m\u001b[1;33m\u001b[0m\u001b[0m\n\u001b[1;32m-> 2800\u001b[1;33m             \u001b[0mindexer\u001b[0m \u001b[1;33m=\u001b[0m \u001b[0mself\u001b[0m\u001b[1;33m.\u001b[0m\u001b[0mcolumns\u001b[0m\u001b[1;33m.\u001b[0m\u001b[0mget_loc\u001b[0m\u001b[1;33m(\u001b[0m\u001b[0mkey\u001b[0m\u001b[1;33m)\u001b[0m\u001b[1;33m\u001b[0m\u001b[1;33m\u001b[0m\u001b[0m\n\u001b[0m\u001b[0;32m   2801\u001b[0m             \u001b[1;32mif\u001b[0m \u001b[0mis_integer\u001b[0m\u001b[1;33m(\u001b[0m\u001b[0mindexer\u001b[0m\u001b[1;33m)\u001b[0m\u001b[1;33m:\u001b[0m\u001b[1;33m\u001b[0m\u001b[1;33m\u001b[0m\u001b[0m\n\u001b[0;32m   2802\u001b[0m                 \u001b[0mindexer\u001b[0m \u001b[1;33m=\u001b[0m \u001b[1;33m[\u001b[0m\u001b[0mindexer\u001b[0m\u001b[1;33m]\u001b[0m\u001b[1;33m\u001b[0m\u001b[1;33m\u001b[0m\u001b[0m\n",
      "\u001b[1;32m~\\anaconda3\\lib\\site-packages\\pandas\\core\\indexes\\base.py\u001b[0m in \u001b[0;36mget_loc\u001b[1;34m(self, key, method, tolerance)\u001b[0m\n\u001b[0;32m   2646\u001b[0m                 \u001b[1;32mreturn\u001b[0m \u001b[0mself\u001b[0m\u001b[1;33m.\u001b[0m\u001b[0m_engine\u001b[0m\u001b[1;33m.\u001b[0m\u001b[0mget_loc\u001b[0m\u001b[1;33m(\u001b[0m\u001b[0mkey\u001b[0m\u001b[1;33m)\u001b[0m\u001b[1;33m\u001b[0m\u001b[1;33m\u001b[0m\u001b[0m\n\u001b[0;32m   2647\u001b[0m             \u001b[1;32mexcept\u001b[0m \u001b[0mKeyError\u001b[0m\u001b[1;33m:\u001b[0m\u001b[1;33m\u001b[0m\u001b[1;33m\u001b[0m\u001b[0m\n\u001b[1;32m-> 2648\u001b[1;33m                 \u001b[1;32mreturn\u001b[0m \u001b[0mself\u001b[0m\u001b[1;33m.\u001b[0m\u001b[0m_engine\u001b[0m\u001b[1;33m.\u001b[0m\u001b[0mget_loc\u001b[0m\u001b[1;33m(\u001b[0m\u001b[0mself\u001b[0m\u001b[1;33m.\u001b[0m\u001b[0m_maybe_cast_indexer\u001b[0m\u001b[1;33m(\u001b[0m\u001b[0mkey\u001b[0m\u001b[1;33m)\u001b[0m\u001b[1;33m)\u001b[0m\u001b[1;33m\u001b[0m\u001b[1;33m\u001b[0m\u001b[0m\n\u001b[0m\u001b[0;32m   2649\u001b[0m         \u001b[0mindexer\u001b[0m \u001b[1;33m=\u001b[0m \u001b[0mself\u001b[0m\u001b[1;33m.\u001b[0m\u001b[0mget_indexer\u001b[0m\u001b[1;33m(\u001b[0m\u001b[1;33m[\u001b[0m\u001b[0mkey\u001b[0m\u001b[1;33m]\u001b[0m\u001b[1;33m,\u001b[0m \u001b[0mmethod\u001b[0m\u001b[1;33m=\u001b[0m\u001b[0mmethod\u001b[0m\u001b[1;33m,\u001b[0m \u001b[0mtolerance\u001b[0m\u001b[1;33m=\u001b[0m\u001b[0mtolerance\u001b[0m\u001b[1;33m)\u001b[0m\u001b[1;33m\u001b[0m\u001b[1;33m\u001b[0m\u001b[0m\n\u001b[0;32m   2650\u001b[0m         \u001b[1;32mif\u001b[0m \u001b[0mindexer\u001b[0m\u001b[1;33m.\u001b[0m\u001b[0mndim\u001b[0m \u001b[1;33m>\u001b[0m \u001b[1;36m1\u001b[0m \u001b[1;32mor\u001b[0m \u001b[0mindexer\u001b[0m\u001b[1;33m.\u001b[0m\u001b[0msize\u001b[0m \u001b[1;33m>\u001b[0m \u001b[1;36m1\u001b[0m\u001b[1;33m:\u001b[0m\u001b[1;33m\u001b[0m\u001b[1;33m\u001b[0m\u001b[0m\n",
      "\u001b[1;32mpandas\\_libs\\index.pyx\u001b[0m in \u001b[0;36mpandas._libs.index.IndexEngine.get_loc\u001b[1;34m()\u001b[0m\n",
      "\u001b[1;32mpandas\\_libs\\index.pyx\u001b[0m in \u001b[0;36mpandas._libs.index.IndexEngine.get_loc\u001b[1;34m()\u001b[0m\n",
      "\u001b[1;32mpandas\\_libs\\hashtable_class_helper.pxi\u001b[0m in \u001b[0;36mpandas._libs.hashtable.PyObjectHashTable.get_item\u001b[1;34m()\u001b[0m\n",
      "\u001b[1;32mpandas\\_libs\\hashtable_class_helper.pxi\u001b[0m in \u001b[0;36mpandas._libs.hashtable.PyObjectHashTable.get_item\u001b[1;34m()\u001b[0m\n",
      "\u001b[1;31mKeyError\u001b[0m: '시간대'"
     ]
    }
   ],
   "source": [
    "## 변수 더미처리\n",
    "실적수치데이터[pd.get_dummies(실적수치데이터['상품군']).columns] = pd.get_dummies(실적수치데이터['상품군'])\n",
    "실적수치데이터[pd.get_dummies(실적수치데이터['요일']).columns] = pd.get_dummies(실적수치데이터['요일'])\n",
    "실적수치데이터[pd.get_dummies(실적수치데이터['시간대']).columns] = pd.get_dummies(실적수치데이터['시간대'])\n",
    "#실적수치데이터[pd.get_dummies(실적수치데이터['월9']).columns] = pd.get_dummies(실적수치데이터['월9'])\n",
    "\n",
    "#실적수치데이터[pd.get_dummies(실적수치데이터['마더코드']).columns] = pd.get_dummies(실적수치데이터['마더코드'])\n",
    "#실적수치데이터[pd.get_dummies(실적수치데이터['상품코드']).columns] = pd.get_dummies(실적수치데이터['상품코드'])\n",
    "#실적수치데이터.drop(['마더코드','상품코드'],axis=1, inplace=True)"
   ]
  },
  {
   "cell_type": "code",
   "execution_count": 568,
   "metadata": {},
   "outputs": [],
   "source": [
    "실적수치데이터.drop(['168시간기준'],axis=1,inplace=True)"
   ]
  },
  {
   "cell_type": "code",
   "execution_count": 500,
   "metadata": {},
   "outputs": [],
   "source": [
    "#실적수치데이터.drop(['상품코드','마더코드'],axis=1,inplace=True)#상품코드"
   ]
  },
  {
   "cell_type": "code",
   "execution_count": 585,
   "metadata": {},
   "outputs": [],
   "source": [
    "실적수치데이터.drop(['방송시간','상품명','시간','취급액','일시','방송일시','브랜드'],axis=1,inplace=True)\n",
    "#실적수치데이터.drop(['상품군','요일','월','일','시','분','주'],axis=1,inplace=True)\n",
    "실적수치데이터.마더코드 = 실적수치데이터.마더코드-100000\n",
    "실적수치데이터.drop(['평균최고기온','평균최저기온','최대풍속'],axis=1,inplace=True)"
   ]
  },
  {
   "cell_type": "code",
   "execution_count": 519,
   "metadata": {},
   "outputs": [],
   "source": [
    "## 데이터정규화\n",
    "from sklearn.preprocessing import MinMaxScaler\n",
    "scaler = MinMaxScaler()\n",
    "fitted = scaler.fit(실적수치데이터)\n",
    "정규화데이터 = scaler.transform(실적수치데이터)\n",
    "정규화데이터 = pd.DataFrame(정규화데이터, columns=실적수치데이터.columns, index=list(실적수치데이터.index.values))\n"
   ]
  },
  {
   "cell_type": "markdown",
   "metadata": {},
   "source": [
    "## 랜덤포레스트"
   ]
  },
  {
   "cell_type": "code",
   "execution_count": 482,
   "metadata": {},
   "outputs": [],
   "source": [
    "## 12월 판매량 예측\n",
    "\n",
    "from sklearn.model_selection import train_test_split\n",
    "\n",
    "X = 실적수치데이터[실적수치데이터.월==12].drop(['주문량','시간'],axis=1)\n",
    "y = 실적수치데이터[실적수치데이터.월==12].주문량\n",
    "\n",
    "X_train, X_test, y_train, y_test = train_test_split (X, y)\n"
   ]
  },
  {
   "cell_type": "code",
   "execution_count": 587,
   "metadata": {},
   "outputs": [],
   "source": [
    "from sklearn.model_selection import train_test_split\n",
    "\n",
    "X = 실적수치데이터.drop(['주문량'],axis=1)\n",
    "y = 실적수치데이터.주문량\n",
    "\n",
    "X_train, X_test, y_train, y_test = train_test_split (X, y,random_state = 1)"
   ]
  },
  {
   "cell_type": "code",
   "execution_count": 315,
   "metadata": {},
   "outputs": [],
   "source": [
    "## 상품가격대 4등급으로 쪼갠 후 학습\n",
    "\n",
    "상품가격 = pd.qcut(실적수치데이터.판매단가,4)\n",
    "\n",
    "from sklearn.preprocessing import LabelEncoder\n",
    "le = LabelEncoder()\n",
    "상품가격대 = le.fit_transform(상품가격)\n",
    "\n",
    "실적수치데이터['상품가격대'] = 상품가격대\n",
    "\n",
    "\n",
    "from sklearn.model_selection import StratifiedShuffleSplit\n",
    "shuffledSplit = StratifiedShuffleSplit(test_size = 0.3)\n",
    "for train_idx, test_idx in shuffledSplit.split(실적수치데이터,실적수치데이터.상품가격대):\n",
    "    train_set = 실적수치데이터.loc[train_idx]\n",
    "    test_set = 실적수치데이터.loc[test_idx]\n",
    "    \n",
    "train_set.drop('상품가격대', axis=1, inplace = True)\n",
    "test_set.drop('상품가격대', axis=1, inplace = True)\n",
    "\n",
    "\n",
    "X_train = train_set.drop('주문량',axis=1)\n",
    "y_train = train_set.주문량\n",
    "X_test = test_set.drop('주문량',axis=1)\n",
    "y_test = test_set.주문량"
   ]
  },
  {
   "cell_type": "code",
   "execution_count": 526,
   "metadata": {},
   "outputs": [],
   "source": [
    "from sklearn.model_selection import StratifiedShuffleSplit\n",
    "shuffledSplit = StratifiedShuffleSplit(test_size = 0.3)\n",
    "for train_idx, test_idx in shuffledSplit.split(정규화데이터,정규화데이터.월):\n",
    "    train_set = 정규화데이터.loc[train_idx]\n",
    "    test_set = 정규화데이터.loc[test_idx]\n",
    "    \n",
    "train_set.drop('상품가격대', axis=1, inplace = True)\n",
    "test_set.drop('상품가격대', axis=1, inplace = True)"
   ]
  },
  {
   "cell_type": "code",
   "execution_count": 577,
   "metadata": {},
   "outputs": [
    {
     "name": "stdout",
     "output_type": "stream",
     "text": [
      "0.8588747927612554\n",
      "0.8588747927612554\n"
     ]
    }
   ],
   "source": [
    "from sklearn.ensemble import RandomForestRegressor\n",
    "from sklearn.model_selection import GridSearchCV #최적화를 위해\n",
    "import sklearn.metrics as mt\n",
    "# randomforest\n",
    "rf_reg = RandomForestRegressor().fit(X_train,y_train)\n",
    "#학습\n",
    "#rf_reg.fit(X_train,y_train)\n",
    "y_pred = rf_reg.predict(X_test)\n",
    "\n",
    "#평가\n",
    "#print(rf_reg.score(X_train, y_train))\n",
    "\n",
    "#기본 : 0.7856073284291283\n",
    "# 월789 넣어서 : 0.782505620385205\n",
    "# 하반기:  0.7860406779527458\n",
    "# 가을: 0.7858198564807969\n",
    "# 겨울: 0.7853950228900902\n",
    "# 월말초: 0.78552472537126\n",
    "# 저가: 0.7837603372927772\n",
    "#중가:0.783563189532324\n",
    "# 고가: 0.7877845632285391\n",
    "#노출시간 20미만: 0.7843100698570832\n",
    "#노출2030: 0.7865777275572318\n",
    "#노출30 이상: 0.7862121297073987\n",
    "#주 32 후: 0.7869581910227686\n",
    "#시간1015사이20이후: 0.7828194088940466\n",
    "#시간6-9 : 0.7819595914173967\n",
    "#하루방송시간 3등분: 0.7859541028709676\n",
    "# 브랜드 점수화: 0.8190897952902946\n",
    "#168시간기준 : 0.7927717144321098\n",
    "#168시간 나누고 가격 4 분할: 0.7742086535694324\n",
    "#브랜드점수화(방송빈도): 0.8141436741060738\n",
    "#방송최고시청률: 0.7864116434202425\n",
    "#상품코드만 : 0.8504322681478542\n",
    "#마더코드만 : 0.8201086939748572\n",
    "#마더코드 -100000 : 0.8202665534003997\n",
    "#마더코드, 상품코드 강수량 : 0.8585007971909129\n",
    "# 강수량만 : 0.7983201135360822\n",
    "#풍속만 :  0.793092465646094\n",
    "#풍속 강수량 같이 : 0.7914396473720213\n",
    "#최고시청률, 판매단가 수치조정: 0.7963689806941725\n",
    "#마더, 상품, 168시간 상품,시청률,브랜드점수,강수량 : 0.8635559164230392\n",
    "#마더,상품,시청률,브랜드점수,강수량: 0.8588747927612554\n",
    "\n",
    "\n",
    "print(rf_reg.score(X_test, y_test))\n",
    "print(mt.r2_score(y_test, y_pred))  "
   ]
  },
  {
   "cell_type": "markdown",
   "metadata": {},
   "source": [
    "## 랜덤포레스트 GridSearchcv"
   ]
  },
  {
   "cell_type": "code",
   "execution_count": null,
   "metadata": {},
   "outputs": [],
   "source": [
    "# 최적화를 위한 GridSearch 진행\n",
    "#객체생성\n",
    "rf_reg = RandomForestRegressor()\n",
    "\n",
    "rf_params = { 'n_estimators' : [700,800,1000],\n",
    "           'max_depth' : [8,14,17],\n",
    "           'min_samples_leaf' : [1,3],\n",
    "           'min_samples_split' : [2,3,7]            }\n",
    "grid_reg = GridSearchCV(rf_reg, param_grid = rf_params, scoring='r2',cv=5)\n",
    "\n",
    "\n",
    "#학습\n",
    "grid_reg.fit(X_train,y_train)\n",
    "\n",
    "y_pred = grid_reg.predict(X_test)\n",
    "\n",
    "#평가\n",
    "print(mt.r2_score(y_test, y_pred))  \n",
    "print('최적 하이퍼 파라미터: ', grid_reg.best_params_)\n",
    "print('최고 예측 정확도: {:.6f}'.format(grid_reg.best_score_))\n",
    "\n",
    "#0.8531259\n",
    "#800,17,3,3\n",
    "#0.812529\n",
    "#------------------"
   ]
  },
  {
   "cell_type": "code",
   "execution_count": 617,
   "metadata": {},
   "outputs": [
    {
     "data": {
      "text/plain": [
       "RandomForestRegressor(max_depth=17, min_samples_leaf=3, min_samples_split=3,\n",
       "                      n_estimators=800)"
      ]
     },
     "execution_count": 617,
     "metadata": {},
     "output_type": "execute_result"
    }
   ],
   "source": [
    "grid_reg.best_estimator_ # score: 0.812529"
   ]
  },
  {
   "cell_type": "markdown",
   "metadata": {},
   "source": [
    "## 회귀트리"
   ]
  },
  {
   "cell_type": "code",
   "execution_count": 50,
   "metadata": {},
   "outputs": [
    {
     "data": {
      "text/plain": [
       "0.6504212574625683"
      ]
     },
     "execution_count": 50,
     "metadata": {},
     "output_type": "execute_result"
    }
   ],
   "source": [
    "from sklearn.tree import DecisionTreeRegressor\n",
    "\n",
    "dt_reg = DecisionTreeRegressor()\n",
    "dt_reg = dt_reg.fit(X_train, y_train)\n",
    "y_pred = dt_reg.predict(X_test)\n",
    "\n",
    "mt.r2_score(y_pred, y_test)"
   ]
  }
 ],
 "metadata": {
  "kernelspec": {
   "display_name": "Python 3",
   "language": "python",
   "name": "python3"
  },
  "language_info": {
   "codemirror_mode": {
    "name": "ipython",
    "version": 3
   },
   "file_extension": ".py",
   "mimetype": "text/x-python",
   "name": "python",
   "nbconvert_exporter": "python",
   "pygments_lexer": "ipython3",
   "version": "3.8.3"
  }
 },
 "nbformat": 4,
 "nbformat_minor": 4
}
